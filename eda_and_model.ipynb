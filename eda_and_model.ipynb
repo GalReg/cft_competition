{
  "cells": [
    {
      "cell_type": "code",
      "execution_count": null,
      "id": "95696234",
      "metadata": {
        "execution": {
          "iopub.execute_input": "2022-02-04T21:40:49.327540Z",
          "iopub.status.busy": "2022-02-04T21:40:49.326346Z",
          "iopub.status.idle": "2022-02-04T21:40:50.748788Z",
          "shell.execute_reply": "2022-02-04T21:40:50.748120Z",
          "shell.execute_reply.started": "2022-02-04T21:12:09.126831Z"
        },
        "papermill": {
          "duration": 1.460033,
          "end_time": "2022-02-04T21:40:50.748950",
          "exception": false,
          "start_time": "2022-02-04T21:40:49.288917",
          "status": "completed"
        },
        "tags": [],
        "id": "95696234"
      },
      "outputs": [],
      "source": [
        "import time\n",
        "import datetime\n",
        "import numpy as np\n",
        "import pandas as pd \n",
        "from sklearn.model_selection import KFold\n",
        "from sklearn.model_selection import cross_val_score\n",
        "from sklearn.metrics import roc_auc_score\n",
        "from sklearn.preprocessing import StandardScaler\n",
        "from sklearn.linear_model import LogisticRegression\n",
        "\n",
        "import matplotlib\n",
        "\n",
        "import matplotlib.pyplot as plt\n",
        "import seaborn as sns \n",
        "import warnings\n",
        "warnings.filterwarnings(\"ignore\")\n",
        "\n",
        "matplotlib.style.use('ggplot')\n",
        "%matplotlib inline"
      ]
    },
    {
      "cell_type": "code",
      "execution_count": null,
      "id": "f5c1aff4",
      "metadata": {
        "execution": {
          "iopub.execute_input": "2022-02-04T21:40:50.891812Z",
          "iopub.status.busy": "2022-02-04T21:40:50.891138Z",
          "iopub.status.idle": "2022-02-04T21:40:50.964571Z",
          "shell.execute_reply": "2022-02-04T21:40:50.965094Z",
          "shell.execute_reply.started": "2022-02-04T21:12:10.627554Z"
        },
        "papermill": {
          "duration": 0.115822,
          "end_time": "2022-02-04T21:40:50.965262",
          "exception": false,
          "start_time": "2022-02-04T21:40:50.849440",
          "status": "completed"
        },
        "tags": [],
        "id": "f5c1aff4"
      },
      "outputs": [],
      "source": [
        "new_train = pd.read_csv('../input/shift-cft-new-train-dataset/new_train.csv')\n",
        "new_test = pd.read_csv('../input/shift-cft-new-test-dataset/shift-cft-new-test-dataset.csv')"
      ]
    },
    {
      "cell_type": "code",
      "execution_count": null,
      "id": "bb061541",
      "metadata": {
        "execution": {
          "iopub.execute_input": "2022-02-04T21:40:51.033327Z",
          "iopub.status.busy": "2022-02-04T21:40:51.031033Z",
          "iopub.status.idle": "2022-02-04T21:40:51.073744Z",
          "shell.execute_reply": "2022-02-04T21:40:51.073140Z",
          "shell.execute_reply.started": "2022-02-04T21:12:10.723061Z"
        },
        "papermill": {
          "duration": 0.076806,
          "end_time": "2022-02-04T21:40:51.073881",
          "exception": false,
          "start_time": "2022-02-04T21:40:50.997075",
          "status": "completed"
        },
        "tags": [],
        "id": "bb061541",
        "outputId": "000500e9-8f31-4b16-db90-f31fbdb3086f"
      },
      "outputs": [
        {
          "data": {
            "text/html": [
              "<div>\n",
              "<style scoped>\n",
              "    .dataframe tbody tr th:only-of-type {\n",
              "        vertical-align: middle;\n",
              "    }\n",
              "\n",
              "    .dataframe tbody tr th {\n",
              "        vertical-align: top;\n",
              "    }\n",
              "\n",
              "    .dataframe thead th {\n",
              "        text-align: right;\n",
              "    }\n",
              "</style>\n",
              "<table border=\"1\" class=\"dataframe\">\n",
              "  <thead>\n",
              "    <tr style=\"text-align: right;\">\n",
              "      <th></th>\n",
              "      <th>id</th>\n",
              "      <th>target</th>\n",
              "      <th>big station</th>\n",
              "      <th>small station</th>\n",
              "      <th>bus stop</th>\n",
              "      <th>hospital</th>\n",
              "      <th>pharmacy</th>\n",
              "      <th>theatre</th>\n",
              "      <th>cinema</th>\n",
              "      <th>park</th>\n",
              "      <th>...</th>\n",
              "      <th>bar</th>\n",
              "      <th>store</th>\n",
              "      <th>bank</th>\n",
              "      <th>atm</th>\n",
              "      <th>chrisians</th>\n",
              "      <th>muslims</th>\n",
              "      <th>police</th>\n",
              "      <th>fire station</th>\n",
              "      <th>school</th>\n",
              "      <th>kindergarten</th>\n",
              "    </tr>\n",
              "  </thead>\n",
              "  <tbody>\n",
              "    <tr>\n",
              "      <th>0</th>\n",
              "      <td>0.0</td>\n",
              "      <td>1.0</td>\n",
              "      <td>3.0</td>\n",
              "      <td>0.0</td>\n",
              "      <td>20.0</td>\n",
              "      <td>6.0</td>\n",
              "      <td>0.0</td>\n",
              "      <td>2.0</td>\n",
              "      <td>0.0</td>\n",
              "      <td>2.0</td>\n",
              "      <td>...</td>\n",
              "      <td>1.0</td>\n",
              "      <td>0.0</td>\n",
              "      <td>0.0</td>\n",
              "      <td>0.0</td>\n",
              "      <td>0.0</td>\n",
              "      <td>0.0</td>\n",
              "      <td>4.0</td>\n",
              "      <td>0.0</td>\n",
              "      <td>6.0</td>\n",
              "      <td>3.0</td>\n",
              "    </tr>\n",
              "    <tr>\n",
              "      <th>1</th>\n",
              "      <td>1.0</td>\n",
              "      <td>1.0</td>\n",
              "      <td>4.0</td>\n",
              "      <td>0.0</td>\n",
              "      <td>2.0</td>\n",
              "      <td>0.0</td>\n",
              "      <td>0.0</td>\n",
              "      <td>0.0</td>\n",
              "      <td>0.0</td>\n",
              "      <td>2.0</td>\n",
              "      <td>...</td>\n",
              "      <td>0.0</td>\n",
              "      <td>0.0</td>\n",
              "      <td>1.0</td>\n",
              "      <td>0.0</td>\n",
              "      <td>0.0</td>\n",
              "      <td>0.0</td>\n",
              "      <td>2.0</td>\n",
              "      <td>1.0</td>\n",
              "      <td>0.0</td>\n",
              "      <td>0.0</td>\n",
              "    </tr>\n",
              "    <tr>\n",
              "      <th>2</th>\n",
              "      <td>2.0</td>\n",
              "      <td>1.0</td>\n",
              "      <td>4.0</td>\n",
              "      <td>2.0</td>\n",
              "      <td>10.0</td>\n",
              "      <td>1.0</td>\n",
              "      <td>0.0</td>\n",
              "      <td>0.0</td>\n",
              "      <td>1.0</td>\n",
              "      <td>3.0</td>\n",
              "      <td>...</td>\n",
              "      <td>0.0</td>\n",
              "      <td>0.0</td>\n",
              "      <td>0.0</td>\n",
              "      <td>0.0</td>\n",
              "      <td>0.0</td>\n",
              "      <td>0.0</td>\n",
              "      <td>1.0</td>\n",
              "      <td>2.0</td>\n",
              "      <td>2.0</td>\n",
              "      <td>4.0</td>\n",
              "    </tr>\n",
              "    <tr>\n",
              "      <th>3</th>\n",
              "      <td>3.0</td>\n",
              "      <td>1.0</td>\n",
              "      <td>2.0</td>\n",
              "      <td>1.0</td>\n",
              "      <td>2.0</td>\n",
              "      <td>5.0</td>\n",
              "      <td>0.0</td>\n",
              "      <td>0.0</td>\n",
              "      <td>0.0</td>\n",
              "      <td>2.0</td>\n",
              "      <td>...</td>\n",
              "      <td>0.0</td>\n",
              "      <td>0.0</td>\n",
              "      <td>0.0</td>\n",
              "      <td>0.0</td>\n",
              "      <td>0.0</td>\n",
              "      <td>0.0</td>\n",
              "      <td>4.0</td>\n",
              "      <td>1.0</td>\n",
              "      <td>0.0</td>\n",
              "      <td>1.0</td>\n",
              "    </tr>\n",
              "    <tr>\n",
              "      <th>4</th>\n",
              "      <td>4.0</td>\n",
              "      <td>0.0</td>\n",
              "      <td>0.0</td>\n",
              "      <td>0.0</td>\n",
              "      <td>6.0</td>\n",
              "      <td>1.0</td>\n",
              "      <td>0.0</td>\n",
              "      <td>0.0</td>\n",
              "      <td>0.0</td>\n",
              "      <td>1.0</td>\n",
              "      <td>...</td>\n",
              "      <td>0.0</td>\n",
              "      <td>0.0</td>\n",
              "      <td>0.0</td>\n",
              "      <td>0.0</td>\n",
              "      <td>0.0</td>\n",
              "      <td>0.0</td>\n",
              "      <td>0.0</td>\n",
              "      <td>0.0</td>\n",
              "      <td>2.0</td>\n",
              "      <td>4.0</td>\n",
              "    </tr>\n",
              "  </tbody>\n",
              "</table>\n",
              "<p>5 rows × 24 columns</p>\n",
              "</div>"
            ],
            "text/plain": [
              "    id  target  big station  small station  bus stop  hospital  pharmacy  \\\n",
              "0  0.0     1.0          3.0            0.0      20.0       6.0       0.0   \n",
              "1  1.0     1.0          4.0            0.0       2.0       0.0       0.0   \n",
              "2  2.0     1.0          4.0            2.0      10.0       1.0       0.0   \n",
              "3  3.0     1.0          2.0            1.0       2.0       5.0       0.0   \n",
              "4  4.0     0.0          0.0            0.0       6.0       1.0       0.0   \n",
              "\n",
              "   theatre  cinema  park  ...  bar  store  bank  atm  chrisians  muslims  \\\n",
              "0      2.0     0.0   2.0  ...  1.0    0.0   0.0  0.0        0.0      0.0   \n",
              "1      0.0     0.0   2.0  ...  0.0    0.0   1.0  0.0        0.0      0.0   \n",
              "2      0.0     1.0   3.0  ...  0.0    0.0   0.0  0.0        0.0      0.0   \n",
              "3      0.0     0.0   2.0  ...  0.0    0.0   0.0  0.0        0.0      0.0   \n",
              "4      0.0     0.0   1.0  ...  0.0    0.0   0.0  0.0        0.0      0.0   \n",
              "\n",
              "   police  fire station  school  kindergarten  \n",
              "0     4.0           0.0     6.0           3.0  \n",
              "1     2.0           1.0     0.0           0.0  \n",
              "2     1.0           2.0     2.0           4.0  \n",
              "3     4.0           1.0     0.0           1.0  \n",
              "4     0.0           0.0     2.0           4.0  \n",
              "\n",
              "[5 rows x 24 columns]"
            ]
          },
          "execution_count": 3,
          "metadata": {},
          "output_type": "execute_result"
        }
      ],
      "source": [
        "X_train = new_train.copy()\n",
        "y_train = new_train[\"target\"]\n",
        "\n",
        "X_test = new_test.copy()\n",
        "\n",
        "X_train.head()"
      ]
    },
    {
      "cell_type": "markdown",
      "id": "b89726aa",
      "metadata": {
        "papermill": {
          "duration": 0.032546,
          "end_time": "2022-02-04T21:40:51.142219",
          "exception": false,
          "start_time": "2022-02-04T21:40:51.109673",
          "status": "completed"
        },
        "tags": [],
        "id": "b89726aa"
      },
      "source": [
        "Заменим пропуски, если таковые имеются, на нули"
      ]
    },
    {
      "cell_type": "code",
      "execution_count": null,
      "id": "3d286bc7",
      "metadata": {
        "execution": {
          "iopub.execute_input": "2022-02-04T21:40:51.212847Z",
          "iopub.status.busy": "2022-02-04T21:40:51.210653Z",
          "iopub.status.idle": "2022-02-04T21:40:51.219272Z",
          "shell.execute_reply": "2022-02-04T21:40:51.218715Z",
          "shell.execute_reply.started": "2022-02-04T21:12:10.775179Z"
        },
        "papermill": {
          "duration": 0.043488,
          "end_time": "2022-02-04T21:40:51.219414",
          "exception": false,
          "start_time": "2022-02-04T21:40:51.175926",
          "status": "completed"
        },
        "tags": [],
        "id": "3d286bc7"
      },
      "outputs": [],
      "source": [
        "X_train = X_train.fillna(value=0)\n",
        "y_train = y_train.fillna(value=0)\n",
        "\n",
        "X_test = X_test.fillna(value=0)"
      ]
    },
    {
      "cell_type": "markdown",
      "id": "5e644d6e",
      "metadata": {
        "papermill": {
          "duration": 0.034133,
          "end_time": "2022-02-04T21:40:51.286733",
          "exception": false,
          "start_time": "2022-02-04T21:40:51.252600",
          "status": "completed"
        },
        "tags": [],
        "id": "5e644d6e"
      },
      "source": [
        "**Количество автобусных остановок**"
      ]
    },
    {
      "cell_type": "code",
      "execution_count": null,
      "id": "df0fd941",
      "metadata": {
        "execution": {
          "iopub.execute_input": "2022-02-04T21:40:51.356417Z",
          "iopub.status.busy": "2022-02-04T21:40:51.355777Z",
          "iopub.status.idle": "2022-02-04T21:40:51.365983Z",
          "shell.execute_reply": "2022-02-04T21:40:51.366567Z",
          "shell.execute_reply.started": "2022-02-04T21:12:10.787463Z"
        },
        "papermill": {
          "duration": 0.047316,
          "end_time": "2022-02-04T21:40:51.366743",
          "exception": false,
          "start_time": "2022-02-04T21:40:51.319427",
          "status": "completed"
        },
        "tags": [],
        "id": "df0fd941",
        "outputId": "e954f7f2-8a78-4add-b5fb-14230a7b587e"
      },
      "outputs": [
        {
          "name": "stdout",
          "output_type": "stream",
          "text": [
            "В среднем в двух километрах от клиента находится 8.4166 автобусных остановок, в 99% случаев 24.01000000000022 автобусных остановок и меньше, а наибольшее количество остановок составляет 35.0.\n"
          ]
        }
      ],
      "source": [
        "data1 = X_train.copy()\n",
        "\n",
        "print(\"В среднем в двух километрах от клиента находится {:.4f} автобусных остановок, в 99% случаев {} автобусных остановок и меньше, а наибольшее количество остановок составляет {}.\".format(data1['bus stop'].mean(), data1['bus stop'].quantile(0.99), data1['bus stop'].max()))"
      ]
    },
    {
      "cell_type": "code",
      "execution_count": null,
      "id": "c9106005",
      "metadata": {
        "execution": {
          "iopub.execute_input": "2022-02-04T21:40:51.441216Z",
          "iopub.status.busy": "2022-02-04T21:40:51.438579Z",
          "iopub.status.idle": "2022-02-04T21:40:51.816614Z",
          "shell.execute_reply": "2022-02-04T21:40:51.815966Z",
          "shell.execute_reply.started": "2022-02-04T21:12:10.802461Z"
        },
        "papermill": {
          "duration": 0.413881,
          "end_time": "2022-02-04T21:40:51.816756",
          "exception": false,
          "start_time": "2022-02-04T21:40:51.402875",
          "status": "completed"
        },
        "tags": [],
        "id": "c9106005",
        "outputId": "cdbbec39-eecb-498c-f764-fff2236bae02"
      },
      "outputs": [
        {
          "data": {
            "image/png": "[encoded data removed]",
            "text/plain": [
              "<Figure size 720x360 with 1 Axes>"
            ]
          },
          "metadata": {
            "needs_background": "light"
          },
          "output_type": "display_data"
        }
      ],
      "source": [
        "data = data1.copy()\n",
        "plt.figure(figsize=(10,5))\n",
        "sns.countplot(data['bus stop'].astype('int').sort_values())\n",
        "plt.title(\"Количество автобусных остановок\",fontsize=15)\n",
        "plt.show()"
      ]
    },
    {
      "cell_type": "markdown",
      "id": "1d280adc",
      "metadata": {
        "papermill": {
          "duration": 0.032811,
          "end_time": "2022-02-04T21:40:51.883888",
          "exception": false,
          "start_time": "2022-02-04T21:40:51.851077",
          "status": "completed"
        },
        "tags": [],
        "id": "1d280adc"
      },
      "source": [
        "Построим графики зависимости хорошего исхода от количества автобусных остановок"
      ]
    },
    {
      "cell_type": "code",
      "execution_count": null,
      "id": "cbbe07ff",
      "metadata": {
        "execution": {
          "iopub.execute_input": "2022-02-04T21:40:51.959338Z",
          "iopub.status.busy": "2022-02-04T21:40:51.958677Z",
          "iopub.status.idle": "2022-02-04T21:40:52.159483Z",
          "shell.execute_reply": "2022-02-04T21:40:52.158685Z",
          "shell.execute_reply.started": "2022-02-04T21:12:11.234986Z"
        },
        "papermill": {
          "duration": 0.240481,
          "end_time": "2022-02-04T21:40:52.159638",
          "exception": false,
          "start_time": "2022-02-04T21:40:51.919157",
          "status": "completed"
        },
        "tags": [],
        "id": "cbbe07ff",
        "outputId": "07b9af41-a2f4-48e7-eacf-d6405fb8cab7"
      },
      "outputs": [
        {
          "data": {
            "image/png": "[encoded data removed]",
            "text/plain": [
              "<Figure size 360x360 with 1 Axes>"
            ]
          },
          "metadata": {
            "needs_background": "light"
          },
          "output_type": "display_data"
        }
      ],
      "source": [
        "sns.catplot(x='target', y='bus stop', kind='boxen', data=data1)\n",
        "plt.show()"
      ]
    },
    {
      "cell_type": "code",
      "execution_count": null,
      "id": "c2f5bb0b",
      "metadata": {
        "execution": {
          "iopub.execute_input": "2022-02-04T21:40:52.236857Z",
          "iopub.status.busy": "2022-02-04T21:40:52.235818Z",
          "iopub.status.idle": "2022-02-04T21:40:52.470059Z",
          "shell.execute_reply": "2022-02-04T21:40:52.470540Z",
          "shell.execute_reply.started": "2022-02-04T21:12:11.513470Z"
        },
        "papermill": {
          "duration": 0.274981,
          "end_time": "2022-02-04T21:40:52.470733",
          "exception": false,
          "start_time": "2022-02-04T21:40:52.195752",
          "status": "completed"
        },
        "tags": [],
        "id": "c2f5bb0b",
        "outputId": "c37ea395-a88c-4828-af84-c26adc3541fb"
      },
      "outputs": [
        {
          "data": {
            "image/png": "[encoded data removed]",
            "text/plain": [
              "<Figure size 432x288 with 1 Axes>"
            ]
          },
          "metadata": {
            "needs_background": "light"
          },
          "output_type": "display_data"
        }
      ],
      "source": [
        "sns.barplot(x='target', y='bus stop', data=data1)\n",
        "plt.show()"
      ]
    },
    {
      "cell_type": "markdown",
      "id": "04225503",
      "metadata": {
        "papermill": {
          "duration": 0.034739,
          "end_time": "2022-02-04T21:40:52.541532",
          "exception": false,
          "start_time": "2022-02-04T21:40:52.506793",
          "status": "completed"
        },
        "tags": [],
        "id": "04225503"
      },
      "source": [
        "Видим, что хороший исход не зависит от количества автобусных остановок"
      ]
    },
    {
      "cell_type": "markdown",
      "id": "7dc71fdf",
      "metadata": {
        "papermill": {
          "duration": 0.035177,
          "end_time": "2022-02-04T21:40:52.610691",
          "exception": false,
          "start_time": "2022-02-04T21:40:52.575514",
          "status": "completed"
        },
        "tags": [],
        "id": "7dc71fdf"
      },
      "source": [
        "**Количество школ**"
      ]
    },
    {
      "cell_type": "code",
      "execution_count": null,
      "id": "a55e0d53",
      "metadata": {
        "execution": {
          "iopub.execute_input": "2022-02-04T21:40:52.688869Z",
          "iopub.status.busy": "2022-02-04T21:40:52.687827Z",
          "iopub.status.idle": "2022-02-04T21:40:52.693516Z",
          "shell.execute_reply": "2022-02-04T21:40:52.693927Z",
          "shell.execute_reply.started": "2022-02-04T21:12:11.815051Z"
        },
        "papermill": {
          "duration": 0.046313,
          "end_time": "2022-02-04T21:40:52.694102",
          "exception": false,
          "start_time": "2022-02-04T21:40:52.647789",
          "status": "completed"
        },
        "tags": [],
        "id": "a55e0d53",
        "outputId": "ab59df75-8a6f-4750-e526-898528041306"
      },
      "outputs": [
        {
          "name": "stdout",
          "output_type": "stream",
          "text": [
            "В среднем количество школ составляет 2.0964, в 99% случаев клиент живёт рядом 7.0 с школами и меньше, а наибольшее количество школ составляет 12.0.\n"
          ]
        }
      ],
      "source": [
        "data1 = X_train.copy()\n",
        "\n",
        "print(\"В среднем количество школ составляет {:.4f}, в 99% случаев клиент живёт рядом {} с школами и меньше, а наибольшее количество школ составляет {}.\".format(data1['school'].mean(), data1['school'].quantile(0.99), data1['school'].max()))"
      ]
    },
    {
      "cell_type": "code",
      "execution_count": null,
      "id": "5e623cf9",
      "metadata": {
        "execution": {
          "iopub.execute_input": "2022-02-04T21:40:52.766527Z",
          "iopub.status.busy": "2022-02-04T21:40:52.765532Z",
          "iopub.status.idle": "2022-02-04T21:40:52.948773Z",
          "shell.execute_reply": "2022-02-04T21:40:52.949215Z",
          "shell.execute_reply.started": "2022-02-04T21:12:11.827029Z"
        },
        "papermill": {
          "duration": 0.221286,
          "end_time": "2022-02-04T21:40:52.949394",
          "exception": false,
          "start_time": "2022-02-04T21:40:52.728108",
          "status": "completed"
        },
        "tags": [],
        "id": "5e623cf9",
        "outputId": "227a290f-802f-4f86-9327-ae6f5eef4938"
      },
      "outputs": [
        {
          "data": {
            "image/png": "[encoded data removed]",
            "text/plain": [
              "<Figure size 720x360 with 1 Axes>"
            ]
          },
          "metadata": {
            "needs_background": "light"
          },
          "output_type": "display_data"
        }
      ],
      "source": [
        "data = data1.copy()\n",
        "plt.figure(figsize=(10,5))\n",
        "sns.countplot(data['school'].astype('int').sort_values())\n",
        "plt.title(\"Количество школ\",fontsize=15)\n",
        "plt.show()"
      ]
    },
    {
      "cell_type": "code",
      "execution_count": null,
      "id": "d04639cf",
      "metadata": {
        "execution": {
          "iopub.execute_input": "2022-02-04T21:40:53.028413Z",
          "iopub.status.busy": "2022-02-04T21:40:53.027419Z",
          "iopub.status.idle": "2022-02-04T21:40:53.580827Z",
          "shell.execute_reply": "2022-02-04T21:40:53.581290Z",
          "shell.execute_reply.started": "2022-02-04T21:12:12.093620Z"
        },
        "papermill": {
          "duration": 0.595209,
          "end_time": "2022-02-04T21:40:53.581480",
          "exception": false,
          "start_time": "2022-02-04T21:40:52.986271",
          "status": "completed"
        },
        "tags": [],
        "id": "d04639cf",
        "outputId": "23a344ed-313c-43b2-9933-b6ce8e65b767"
      },
      "outputs": [
        {
          "data": {
            "image/png": "[encoded data removed]",
            "text/plain": [
              "<Figure size 576x288 with 1 Axes>"
            ]
          },
          "metadata": {
            "needs_background": "light"
          },
          "output_type": "display_data"
        }
      ],
      "source": [
        "f,ax1 = plt.subplots(figsize =(8,4))\n",
        "sns.pointplot(x='school', y='target', data=data1, color='#606060', alpha=0.8)\n",
        "plt.title('Количество школ/ Положительный исход',fontsize = 15,color='blue')\n",
        "plt.grid()\n",
        "plt.show()"
      ]
    },
    {
      "cell_type": "markdown",
      "id": "89ff162a",
      "metadata": {
        "papermill": {
          "duration": 0.036799,
          "end_time": "2022-02-04T21:40:53.656966",
          "exception": false,
          "start_time": "2022-02-04T21:40:53.620167",
          "status": "completed"
        },
        "tags": [],
        "id": "89ff162a"
      },
      "source": [
        "Видно, что есть небольшая зависимость между количеством школ и хорошим исходом"
      ]
    },
    {
      "cell_type": "markdown",
      "id": "7fadbfeb",
      "metadata": {
        "papermill": {
          "duration": 0.036356,
          "end_time": "2022-02-04T21:40:53.729232",
          "exception": false,
          "start_time": "2022-02-04T21:40:53.692876",
          "status": "completed"
        },
        "tags": [],
        "id": "7fadbfeb"
      },
      "source": [
        "**Построим корреляционную матрицу**"
      ]
    },
    {
      "cell_type": "code",
      "execution_count": null,
      "id": "a2f04cd2",
      "metadata": {
        "execution": {
          "iopub.execute_input": "2022-02-04T21:40:53.805154Z",
          "iopub.status.busy": "2022-02-04T21:40:53.804555Z",
          "iopub.status.idle": "2022-02-04T21:40:55.797464Z",
          "shell.execute_reply": "2022-02-04T21:40:55.797982Z",
          "shell.execute_reply.started": "2022-02-04T21:12:12.822922Z"
        },
        "papermill": {
          "duration": 2.031772,
          "end_time": "2022-02-04T21:40:55.798171",
          "exception": false,
          "start_time": "2022-02-04T21:40:53.766399",
          "status": "completed"
        },
        "tags": [],
        "id": "a2f04cd2",
        "outputId": "b88f125e-f05c-414e-9634-47688144947b"
      },
      "outputs": [
        {
          "data": {
            "image/png": "[encoded data removed]",
            "text/plain": [
              "<Figure size 1080x1080 with 2 Axes>"
            ]
          },
          "metadata": {
            "needs_background": "light"
          },
          "output_type": "display_data"
        }
      ],
      "source": [
        "f,ax = plt.subplots(figsize=(15, 15))\n",
        "sns.heatmap(X_train.corr(), annot=True, linewidths=.5, fmt= '.1f',ax=ax)\n",
        "plt.show()"
      ]
    },
    {
      "cell_type": "markdown",
      "id": "d51ad8cc",
      "metadata": {
        "papermill": {
          "duration": 0.043458,
          "end_time": "2022-02-04T21:40:55.887045",
          "exception": false,
          "start_time": "2022-02-04T21:40:55.843587",
          "status": "completed"
        },
        "tags": [],
        "id": "d51ad8cc"
      },
      "source": [
        "Видно, что некоторые признаки между собой коррелируют, например театр и вокзал или банк и вокзал.\n",
        "А также замечаем, что у столбцов atm, chrisians, muslims все значения нулевые."
      ]
    },
    {
      "cell_type": "markdown",
      "id": "8ff042b8",
      "metadata": {
        "papermill": {
          "duration": 0.047117,
          "end_time": "2022-02-04T21:40:55.977541",
          "exception": false,
          "start_time": "2022-02-04T21:40:55.930424",
          "status": "completed"
        },
        "tags": [],
        "id": "8ff042b8"
      },
      "source": [
        "Давайте увеличим масштаб до топ-5 наиболее положительно коррелирующих переменных с целевой переменной."
      ]
    },
    {
      "cell_type": "code",
      "execution_count": null,
      "id": "54db7c14",
      "metadata": {
        "execution": {
          "iopub.execute_input": "2022-02-04T21:40:56.072015Z",
          "iopub.status.busy": "2022-02-04T21:40:56.071256Z",
          "iopub.status.idle": "2022-02-04T21:40:56.360325Z",
          "shell.execute_reply": "2022-02-04T21:40:56.360780Z",
          "shell.execute_reply.started": "2022-02-04T21:12:14.989394Z"
        },
        "papermill": {
          "duration": 0.339591,
          "end_time": "2022-02-04T21:40:56.361031",
          "exception": false,
          "start_time": "2022-02-04T21:40:56.021440",
          "status": "completed"
        },
        "tags": [],
        "id": "54db7c14",
        "outputId": "f38096c1-8975-4336-cefe-73fa6224fab0"
      },
      "outputs": [
        {
          "data": {
            "image/png": "[encoded data removed]",
            "text/plain": [
              "<Figure size 792x792 with 2 Axes>"
            ]
          },
          "metadata": {
            "needs_background": "light"
          },
          "output_type": "display_data"
        }
      ],
      "source": [
        "k = 5 #количество переменных для тепловой карты\n",
        "f,ax = plt.subplots(figsize=(11, 11))\n",
        "cols = X_train.corr().nlargest(k, 'target')['target'].index\n",
        "cm = np.corrcoef(X_train[cols].values.T)\n",
        "sns.set(font_scale=1.25)\n",
        "hm = sns.heatmap(cm, cbar=True, annot=True, square=True, fmt='.2f', annot_kws={'size': 10}, yticklabels=cols.values, xticklabels=cols.values)\n",
        "plt.show()"
      ]
    },
    {
      "cell_type": "markdown",
      "id": "188cf937",
      "metadata": {
        "papermill": {
          "duration": 0.041261,
          "end_time": "2022-02-04T21:40:56.444245",
          "exception": false,
          "start_time": "2022-02-04T21:40:56.402984",
          "status": "completed"
        },
        "tags": [],
        "id": "188cf937"
      },
      "source": [
        "**Количество аптек**"
      ]
    },
    {
      "cell_type": "code",
      "execution_count": null,
      "id": "acdac478",
      "metadata": {
        "execution": {
          "iopub.execute_input": "2022-02-04T21:40:56.531364Z",
          "iopub.status.busy": "2022-02-04T21:40:56.530746Z",
          "iopub.status.idle": "2022-02-04T21:40:56.538422Z",
          "shell.execute_reply": "2022-02-04T21:40:56.537961Z",
          "shell.execute_reply.started": "2022-02-04T21:12:15.347654Z"
        },
        "papermill": {
          "duration": 0.051949,
          "end_time": "2022-02-04T21:40:56.538574",
          "exception": false,
          "start_time": "2022-02-04T21:40:56.486625",
          "status": "completed"
        },
        "tags": [],
        "id": "acdac478",
        "outputId": "4bc486fb-d0d0-436d-f4a0-db5b72d9d729"
      },
      "outputs": [
        {
          "name": "stdout",
          "output_type": "stream",
          "text": [
            "В среднем количество аптек составляет 0.0, 99% процентов клиентов имеют 1.0 или меньше аптек недалеко от своего дома, самое большое количетво аптек составляет 2.0.\n"
          ]
        }
      ],
      "source": [
        "data1 = X_train.copy()\n",
        "\n",
        "print(\"В среднем количество аптек составляет {:.1f}, 99% процентов клиентов имеют {} или меньше аптек недалеко от своего дома, самое большое количетво аптек составляет {}.\".format(data1['pharmacy'].mean(), data1['pharmacy'].quantile(0.99), data1['pharmacy'].max()))"
      ]
    },
    {
      "cell_type": "code",
      "execution_count": null,
      "id": "7fc7e79a",
      "metadata": {
        "execution": {
          "iopub.execute_input": "2022-02-04T21:40:56.631208Z",
          "iopub.status.busy": "2022-02-04T21:40:56.630572Z",
          "iopub.status.idle": "2022-02-04T21:40:56.907425Z",
          "shell.execute_reply": "2022-02-04T21:40:56.907918Z",
          "shell.execute_reply.started": "2022-02-04T21:12:15.358883Z"
        },
        "papermill": {
          "duration": 0.327157,
          "end_time": "2022-02-04T21:40:56.908103",
          "exception": false,
          "start_time": "2022-02-04T21:40:56.580946",
          "status": "completed"
        },
        "tags": [],
        "id": "7fc7e79a",
        "outputId": "6aca2975-d4f9-4fd6-be99-5d2bc5c6b4e2"
      },
      "outputs": [
        {
          "data": {
            "image/png": "[encoded data removed]",
            "text/plain": [
              "<Figure size 576x288 with 1 Axes>"
            ]
          },
          "metadata": {},
          "output_type": "display_data"
        }
      ],
      "source": [
        "f,ax1 = plt.subplots(figsize =(8,4))\n",
        "sns.pointplot(x='pharmacy', y='target', data=data1, color='#606060', alpha=0.8)\n",
        "plt.title('Количество аптек/ Положительный исход',fontsize = 15,color='blue')\n",
        "plt.grid()\n",
        "plt.show()"
      ]
    },
    {
      "cell_type": "code",
      "execution_count": null,
      "id": "95880979",
      "metadata": {
        "execution": {
          "iopub.execute_input": "2022-02-04T21:40:57.000352Z",
          "iopub.status.busy": "2022-02-04T21:40:56.999388Z",
          "iopub.status.idle": "2022-02-04T21:40:57.004898Z",
          "shell.execute_reply": "2022-02-04T21:40:57.005405Z",
          "shell.execute_reply.started": "2022-02-04T21:12:15.737531Z"
        },
        "papermill": {
          "duration": 0.052414,
          "end_time": "2022-02-04T21:40:57.005607",
          "exception": false,
          "start_time": "2022-02-04T21:40:56.953193",
          "status": "completed"
        },
        "tags": [],
        "id": "95880979"
      },
      "outputs": [],
      "source": [
        "X_train = X_train.loc[:, X_train.columns!=\"target\"]"
      ]
    },
    {
      "cell_type": "markdown",
      "id": "7b9172f7",
      "metadata": {
        "papermill": {
          "duration": 0.042674,
          "end_time": "2022-02-04T21:40:57.091843",
          "exception": false,
          "start_time": "2022-02-04T21:40:57.049169",
          "status": "completed"
        },
        "tags": [],
        "id": "7b9172f7"
      },
      "source": [
        "**Обучим логистическую регрессию**"
      ]
    },
    {
      "cell_type": "markdown",
      "id": "87179522",
      "metadata": {
        "papermill": {
          "duration": 0.043789,
          "end_time": "2022-02-04T21:40:57.178910",
          "exception": false,
          "start_time": "2022-02-04T21:40:57.135121",
          "status": "completed"
        },
        "tags": [],
        "id": "87179522"
      },
      "source": [
        "Проведём кросс-валидацию для логистической регрессии с подбором лучшего параметра регуляризации и поссчитаем качество"
      ]
    },
    {
      "cell_type": "code",
      "execution_count": null,
      "id": "9fb4e6bd",
      "metadata": {
        "execution": {
          "iopub.execute_input": "2022-02-04T21:40:57.267286Z",
          "iopub.status.busy": "2022-02-04T21:40:57.266694Z",
          "iopub.status.idle": "2022-02-04T21:40:57.276716Z",
          "shell.execute_reply": "2022-02-04T21:40:57.277268Z",
          "shell.execute_reply.started": "2022-02-04T21:12:15.745304Z"
        },
        "papermill": {
          "duration": 0.055955,
          "end_time": "2022-02-04T21:40:57.277483",
          "exception": false,
          "start_time": "2022-02-04T21:40:57.221528",
          "status": "completed"
        },
        "tags": [],
        "id": "9fb4e6bd"
      },
      "outputs": [],
      "source": [
        "cv = KFold(n_splits=5, shuffle=True, random_state=42)\n",
        "scaler = StandardScaler()\n",
        "X_train = pd.DataFrame(scaler.fit_transform(X_train), index=X_train.index, columns=X_train.columns)"
      ]
    },
    {
      "cell_type": "code",
      "execution_count": null,
      "id": "8ed37ae2",
      "metadata": {
        "execution": {
          "iopub.execute_input": "2022-02-04T21:40:57.368787Z",
          "iopub.status.busy": "2022-02-04T21:40:57.368074Z",
          "iopub.status.idle": "2022-02-04T21:40:57.374745Z",
          "shell.execute_reply": "2022-02-04T21:40:57.375229Z",
          "shell.execute_reply.started": "2022-02-04T21:12:15.772453Z"
        },
        "papermill": {
          "duration": 0.05384,
          "end_time": "2022-02-04T21:40:57.375392",
          "exception": false,
          "start_time": "2022-02-04T21:40:57.321552",
          "status": "completed"
        },
        "tags": [],
        "id": "8ed37ae2"
      },
      "outputs": [],
      "source": [
        "def log_reg(X, y):\n",
        "  scores = {}\n",
        "\n",
        "  for i in range(-5, 6):\n",
        "    c = 10.0 ** i\n",
        "    print('С=', c)\n",
        "    clf = LogisticRegression(C=c, random_state=42)\n",
        "\n",
        "    start_time = datetime.datetime.now()\n",
        "    score = cross_val_score(clf, X, y, cv=cv, scoring=\"roc_auc\", n_jobs=-1).mean()\n",
        "    print('Score:', score)\n",
        "    print('Time elapsed:', datetime.datetime.now() - start_time)\n",
        "\n",
        "    scores[i] = score\n",
        "    print()\n",
        "  \n",
        "  return scores\n",
        "\n",
        "def find_best_c(scores):\n",
        "  scores = pd.Series(scores)\n",
        "  best_c = 10.0 ** (scores.sort_values(ascending=False).head(1)).index[0]\n",
        "  best_score = (scores.sort_values(ascending=False).head(1)).values[0]\n",
        "  print('Лучший параметр регуляризации равен С =', best_c, ', при котором качество равно', best_score)"
      ]
    },
    {
      "cell_type": "code",
      "execution_count": null,
      "id": "fc174381",
      "metadata": {
        "execution": {
          "iopub.execute_input": "2022-02-04T21:40:57.467948Z",
          "iopub.status.busy": "2022-02-04T21:40:57.467261Z",
          "iopub.status.idle": "2022-02-04T21:41:02.058092Z",
          "shell.execute_reply": "2022-02-04T21:41:02.057513Z",
          "shell.execute_reply.started": "2022-02-04T21:12:15.784551Z"
        },
        "papermill": {
          "duration": 4.638677,
          "end_time": "2022-02-04T21:41:02.058243",
          "exception": false,
          "start_time": "2022-02-04T21:40:57.419566",
          "status": "completed"
        },
        "tags": [],
        "id": "fc174381",
        "outputId": "06ee9bf2-c606-447b-f47f-f63eb64065ae"
      },
      "outputs": [
        {
          "name": "stdout",
          "output_type": "stream",
          "text": [
            "С= 1e-05\n",
            "Score: 0.4976626626456889\n",
            "Time elapsed: 0:00:02.633688\n",
            "\n",
            "С= 0.0001\n",
            "Score: 0.4982566661768756\n",
            "Time elapsed: 0:00:00.166092\n",
            "\n",
            "С= 0.001\n",
            "Score: 0.49971630091087427\n",
            "Time elapsed: 0:00:00.161603\n",
            "\n",
            "С= 0.01\n",
            "Score: 0.5019960175881533\n",
            "Time elapsed: 0:00:00.167136\n",
            "\n",
            "С= 0.1\n",
            "Score: 0.5021574627704914\n",
            "Time elapsed: 0:00:00.172952\n",
            "\n",
            "С= 1.0\n",
            "Score: 0.5021877769582128\n",
            "Time elapsed: 0:00:00.167598\n",
            "\n",
            "С= 10.0\n",
            "Score: 0.5021902819761107\n",
            "Time elapsed: 0:00:00.169523\n",
            "\n",
            "С= 100.0\n",
            "Score: 0.5021912201382408\n",
            "Time elapsed: 0:00:00.179513\n",
            "\n",
            "С= 1000.0\n",
            "Score: 0.5021915333205065\n",
            "Time elapsed: 0:00:00.178771\n",
            "\n",
            "С= 10000.0\n",
            "Score: 0.5021915333205065\n",
            "Time elapsed: 0:00:00.173436\n",
            "\n",
            "С= 100000.0\n",
            "Score: 0.5021915333205065\n",
            "Time elapsed: 0:00:00.178985\n",
            "\n"
          ]
        },
        {
          "data": {
            "image/png": "[encoded data removed]",
            "text/plain": [
              "<Figure size 432x288 with 1 Axes>"
            ]
          },
          "metadata": {},
          "output_type": "display_data"
        }
      ],
      "source": [
        "scores = log_reg(X_train, y_train)\n",
        "pd.Series(scores).plot()\n",
        "plt.show()"
      ]
    },
    {
      "cell_type": "code",
      "execution_count": null,
      "id": "b1720dd2",
      "metadata": {
        "execution": {
          "iopub.execute_input": "2022-02-04T21:41:02.159557Z",
          "iopub.status.busy": "2022-02-04T21:41:02.158499Z",
          "iopub.status.idle": "2022-02-04T21:41:02.162681Z",
          "shell.execute_reply": "2022-02-04T21:41:02.162161Z",
          "shell.execute_reply.started": "2022-02-04T21:12:20.368534Z"
        },
        "papermill": {
          "duration": 0.055972,
          "end_time": "2022-02-04T21:41:02.162826",
          "exception": false,
          "start_time": "2022-02-04T21:41:02.106854",
          "status": "completed"
        },
        "tags": [],
        "id": "b1720dd2",
        "outputId": "dfd8e75c-e703-4d92-c71d-fffc5742f6cd"
      },
      "outputs": [
        {
          "name": "stdout",
          "output_type": "stream",
          "text": [
            "Лучший параметр регуляризации равен С = 1000.0 , при котором качество равно 0.5021915333205065\n"
          ]
        }
      ],
      "source": [
        "find_best_c(scores)"
      ]
    },
    {
      "cell_type": "code",
      "execution_count": null,
      "id": "153fd1ca",
      "metadata": {
        "execution": {
          "iopub.execute_input": "2022-02-04T21:41:02.259901Z",
          "iopub.status.busy": "2022-02-04T21:41:02.259247Z",
          "iopub.status.idle": "2022-02-04T21:41:02.264787Z",
          "shell.execute_reply": "2022-02-04T21:41:02.265238Z",
          "shell.execute_reply.started": "2022-02-04T21:12:20.379490Z"
        },
        "papermill": {
          "duration": 0.054997,
          "end_time": "2022-02-04T21:41:02.265420",
          "exception": false,
          "start_time": "2022-02-04T21:41:02.210423",
          "status": "completed"
        },
        "tags": [],
        "id": "153fd1ca"
      },
      "outputs": [],
      "source": [
        "X_train_old = X_train.copy()\n",
        "y_train_old = y_train.copy()\n",
        "\n",
        "X_test_old = X_test.copy()"
      ]
    },
    {
      "cell_type": "markdown",
      "id": "54dde7d2",
      "metadata": {
        "papermill": {
          "duration": 0.045703,
          "end_time": "2022-02-04T21:41:02.356884",
          "exception": false,
          "start_time": "2022-02-04T21:41:02.311181",
          "status": "completed"
        },
        "tags": [],
        "id": "54dde7d2"
      },
      "source": [
        "**Попробуем XGBoost**"
      ]
    },
    {
      "cell_type": "code",
      "execution_count": null,
      "id": "8d7a8f3c",
      "metadata": {
        "execution": {
          "iopub.execute_input": "2022-02-04T21:41:02.454396Z",
          "iopub.status.busy": "2022-02-04T21:41:02.453359Z",
          "iopub.status.idle": "2022-02-04T21:41:02.558241Z",
          "shell.execute_reply": "2022-02-04T21:41:02.557735Z",
          "shell.execute_reply.started": "2022-02-04T21:12:20.400042Z"
        },
        "papermill": {
          "duration": 0.155078,
          "end_time": "2022-02-04T21:41:02.558388",
          "exception": false,
          "start_time": "2022-02-04T21:41:02.403310",
          "status": "completed"
        },
        "tags": [],
        "id": "8d7a8f3c"
      },
      "outputs": [],
      "source": [
        "from xgboost.sklearn import XGBClassifier\n",
        "\n",
        "from sklearn.model_selection import GridSearchCV\n",
        "from sklearn.metrics import accuracy_score\n",
        "from sklearn.model_selection import train_test_split"
      ]
    },
    {
      "cell_type": "code",
      "execution_count": null,
      "id": "1dd64809",
      "metadata": {
        "execution": {
          "iopub.execute_input": "2022-02-04T21:41:02.664778Z",
          "iopub.status.busy": "2022-02-04T21:41:02.664107Z",
          "iopub.status.idle": "2022-02-04T21:41:02.671788Z",
          "shell.execute_reply": "2022-02-04T21:41:02.672403Z",
          "shell.execute_reply.started": "2022-02-04T21:12:20.533980Z"
        },
        "papermill": {
          "duration": 0.064612,
          "end_time": "2022-02-04T21:41:02.672629",
          "exception": false,
          "start_time": "2022-02-04T21:41:02.608017",
          "status": "completed"
        },
        "tags": [],
        "id": "1dd64809"
      },
      "outputs": [],
      "source": [
        "X_train, X_test, y_train, y_test = train_test_split(X_train, y_train, test_size=0.35, random_state=143)"
      ]
    },
    {
      "cell_type": "code",
      "execution_count": null,
      "id": "4d8e191e",
      "metadata": {
        "execution": {
          "iopub.execute_input": "2022-02-04T21:41:02.774593Z",
          "iopub.status.busy": "2022-02-04T21:41:02.773866Z",
          "iopub.status.idle": "2022-02-04T21:41:02.777304Z",
          "shell.execute_reply": "2022-02-04T21:41:02.777791Z",
          "shell.execute_reply.started": "2022-02-04T21:12:20.546712Z"
        },
        "papermill": {
          "duration": 0.054159,
          "end_time": "2022-02-04T21:41:02.777962",
          "exception": false,
          "start_time": "2022-02-04T21:41:02.723803",
          "status": "completed"
        },
        "tags": [],
        "id": "4d8e191e"
      },
      "outputs": [],
      "source": [
        "# Create the XGB classifier, xgb_model.\n",
        "xgb_model = XGBClassifier(use_label_encoder=False, n_jobs=1)"
      ]
    },
    {
      "cell_type": "code",
      "execution_count": null,
      "id": "0b06a178",
      "metadata": {
        "execution": {
          "iopub.execute_input": "2022-02-04T21:41:02.880709Z",
          "iopub.status.busy": "2022-02-04T21:41:02.880063Z",
          "iopub.status.idle": "2022-02-04T21:41:02.884967Z",
          "shell.execute_reply": "2022-02-04T21:41:02.885483Z",
          "shell.execute_reply.started": "2022-02-04T21:12:20.557239Z"
        },
        "papermill": {
          "duration": 0.058953,
          "end_time": "2022-02-04T21:41:02.885669",
          "exception": false,
          "start_time": "2022-02-04T21:41:02.826716",
          "status": "completed"
        },
        "tags": [],
        "id": "0b06a178",
        "outputId": "2dfe3e20-14c4-46a9-b01b-8829f94c6943"
      },
      "outputs": [
        {
          "name": "stdout",
          "output_type": "stream",
          "text": [
            "{'objective': 'binary:logistic', 'base_score': None, 'booster': None, 'colsample_bylevel': None, 'colsample_bynode': None, 'colsample_bytree': None, 'gamma': None, 'gpu_id': None, 'interaction_constraints': None, 'learning_rate': None, 'max_delta_step': None, 'max_depth': None, 'min_child_weight': None, 'monotone_constraints': None, 'n_jobs': 1, 'num_parallel_tree': None, 'predictor': None, 'random_state': None, 'reg_alpha': None, 'reg_lambda': None, 'scale_pos_weight': None, 'subsample': None, 'tree_method': None, 'validate_parameters': None, 'verbosity': None}\n"
          ]
        }
      ],
      "source": [
        "# List the default parameters.\n",
        "print(xgb_model.get_xgb_params())"
      ]
    },
    {
      "cell_type": "code",
      "execution_count": null,
      "id": "9e0d053a",
      "metadata": {
        "execution": {
          "iopub.execute_input": "2022-02-04T21:41:02.990867Z",
          "iopub.status.busy": "2022-02-04T21:41:02.990218Z",
          "iopub.status.idle": "2022-02-04T21:41:04.818894Z",
          "shell.execute_reply": "2022-02-04T21:41:04.818245Z",
          "shell.execute_reply.started": "2022-02-04T21:12:20.575741Z"
        },
        "papermill": {
          "duration": 1.879545,
          "end_time": "2022-02-04T21:41:04.819046",
          "exception": false,
          "start_time": "2022-02-04T21:41:02.939501",
          "status": "completed"
        },
        "tags": [],
        "id": "9e0d053a",
        "outputId": "a9836e95-fa71-4905-ceb4-d6b720b82fdd"
      },
      "outputs": [
        {
          "name": "stdout",
          "output_type": "stream",
          "text": [
            "[0]\tvalidation_0-error:0.46250\tvalidation_1-error:0.49179\n",
            "[1]\tvalidation_0-error:0.41885\tvalidation_1-error:0.49357\n",
            "[2]\tvalidation_0-error:0.39385\tvalidation_1-error:0.48607\n",
            "[3]\tvalidation_0-error:0.37846\tvalidation_1-error:0.48750\n",
            "[4]\tvalidation_0-error:0.37173\tvalidation_1-error:0.48607\n",
            "[5]\tvalidation_0-error:0.36250\tvalidation_1-error:0.47964\n",
            "[6]\tvalidation_0-error:0.35231\tvalidation_1-error:0.48179\n",
            "[7]\tvalidation_0-error:0.34827\tvalidation_1-error:0.48036\n",
            "[8]\tvalidation_0-error:0.33904\tvalidation_1-error:0.47679\n",
            "[9]\tvalidation_0-error:0.32500\tvalidation_1-error:0.47250\n",
            "[10]\tvalidation_0-error:0.31539\tvalidation_1-error:0.47143\n",
            "[11]\tvalidation_0-error:0.31231\tvalidation_1-error:0.46929\n",
            "[12]\tvalidation_0-error:0.30058\tvalidation_1-error:0.48071\n",
            "[13]\tvalidation_0-error:0.29558\tvalidation_1-error:0.47893\n",
            "[14]\tvalidation_0-error:0.28385\tvalidation_1-error:0.47679\n",
            "[15]\tvalidation_0-error:0.28212\tvalidation_1-error:0.47714\n",
            "[16]\tvalidation_0-error:0.27538\tvalidation_1-error:0.47286\n",
            "[17]\tvalidation_0-error:0.27327\tvalidation_1-error:0.47429\n",
            "[18]\tvalidation_0-error:0.26346\tvalidation_1-error:0.47679\n",
            "[19]\tvalidation_0-error:0.25808\tvalidation_1-error:0.47821\n",
            "[20]\tvalidation_0-error:0.24788\tvalidation_1-error:0.47607\n",
            "[21]\tvalidation_0-error:0.24827\tvalidation_1-error:0.47357\n",
            "[22]\tvalidation_0-error:0.24461\tvalidation_1-error:0.47357\n",
            "[23]\tvalidation_0-error:0.24308\tvalidation_1-error:0.47536\n",
            "[24]\tvalidation_0-error:0.24346\tvalidation_1-error:0.47464\n",
            "[25]\tvalidation_0-error:0.23789\tvalidation_1-error:0.47607\n",
            "[26]\tvalidation_0-error:0.23346\tvalidation_1-error:0.47786\n",
            "[27]\tvalidation_0-error:0.23135\tvalidation_1-error:0.47536\n",
            "[28]\tvalidation_0-error:0.23154\tvalidation_1-error:0.47607\n",
            "[29]\tvalidation_0-error:0.23289\tvalidation_1-error:0.47607\n",
            "[30]\tvalidation_0-error:0.22885\tvalidation_1-error:0.47571\n",
            "[31]\tvalidation_0-error:0.22596\tvalidation_1-error:0.47429\n",
            "[32]\tvalidation_0-error:0.22077\tvalidation_1-error:0.47571\n",
            "[33]\tvalidation_0-error:0.22115\tvalidation_1-error:0.47571\n",
            "[34]\tvalidation_0-error:0.21365\tvalidation_1-error:0.47286\n",
            "[35]\tvalidation_0-error:0.20577\tvalidation_1-error:0.47393\n",
            "[36]\tvalidation_0-error:0.20077\tvalidation_1-error:0.47571\n",
            "[37]\tvalidation_0-error:0.19827\tvalidation_1-error:0.47357\n",
            "[38]\tvalidation_0-error:0.19769\tvalidation_1-error:0.47179\n",
            "[39]\tvalidation_0-error:0.19596\tvalidation_1-error:0.47250\n",
            "[40]\tvalidation_0-error:0.19423\tvalidation_1-error:0.46857\n",
            "[41]\tvalidation_0-error:0.18577\tvalidation_1-error:0.47286\n",
            "[42]\tvalidation_0-error:0.18250\tvalidation_1-error:0.47464\n",
            "[43]\tvalidation_0-error:0.18211\tvalidation_1-error:0.47536\n",
            "[44]\tvalidation_0-error:0.18173\tvalidation_1-error:0.47500\n",
            "[45]\tvalidation_0-error:0.18038\tvalidation_1-error:0.47643\n",
            "[46]\tvalidation_0-error:0.17981\tvalidation_1-error:0.47571\n",
            "[47]\tvalidation_0-error:0.17923\tvalidation_1-error:0.47429\n",
            "[48]\tvalidation_0-error:0.18038\tvalidation_1-error:0.47607\n",
            "[49]\tvalidation_0-error:0.17692\tvalidation_1-error:0.47679\n",
            "[50]\tvalidation_0-error:0.17673\tvalidation_1-error:0.47607\n",
            "[51]\tvalidation_0-error:0.17269\tvalidation_1-error:0.47679\n",
            "[52]\tvalidation_0-error:0.16904\tvalidation_1-error:0.48000\n",
            "[53]\tvalidation_0-error:0.16712\tvalidation_1-error:0.47964\n",
            "[54]\tvalidation_0-error:0.16269\tvalidation_1-error:0.48429\n",
            "[55]\tvalidation_0-error:0.16192\tvalidation_1-error:0.48393\n",
            "[56]\tvalidation_0-error:0.16019\tvalidation_1-error:0.48429\n",
            "[57]\tvalidation_0-error:0.15500\tvalidation_1-error:0.48357\n",
            "[58]\tvalidation_0-error:0.15135\tvalidation_1-error:0.48071\n",
            "[59]\tvalidation_0-error:0.15019\tvalidation_1-error:0.47929\n",
            "[60]\tvalidation_0-error:0.14635\tvalidation_1-error:0.48250\n",
            "[61]\tvalidation_0-error:0.14519\tvalidation_1-error:0.48357\n",
            "[62]\tvalidation_0-error:0.14404\tvalidation_1-error:0.48286\n",
            "[63]\tvalidation_0-error:0.14385\tvalidation_1-error:0.48321\n",
            "[64]\tvalidation_0-error:0.14173\tvalidation_1-error:0.47893\n",
            "[65]\tvalidation_0-error:0.14115\tvalidation_1-error:0.47857\n",
            "[66]\tvalidation_0-error:0.14211\tvalidation_1-error:0.48000\n",
            "[67]\tvalidation_0-error:0.13981\tvalidation_1-error:0.47857\n",
            "[68]\tvalidation_0-error:0.13731\tvalidation_1-error:0.48179\n",
            "[69]\tvalidation_0-error:0.13289\tvalidation_1-error:0.48321\n",
            "[70]\tvalidation_0-error:0.13289\tvalidation_1-error:0.48179\n",
            "[71]\tvalidation_0-error:0.13385\tvalidation_1-error:0.48143\n",
            "[72]\tvalidation_0-error:0.13308\tvalidation_1-error:0.48107\n",
            "[73]\tvalidation_0-error:0.12865\tvalidation_1-error:0.48000\n",
            "[74]\tvalidation_0-error:0.12500\tvalidation_1-error:0.47857\n",
            "[75]\tvalidation_0-error:0.12462\tvalidation_1-error:0.47821\n",
            "[76]\tvalidation_0-error:0.12423\tvalidation_1-error:0.48036\n",
            "[77]\tvalidation_0-error:0.12308\tvalidation_1-error:0.47964\n",
            "[78]\tvalidation_0-error:0.12308\tvalidation_1-error:0.47964\n",
            "[79]\tvalidation_0-error:0.11865\tvalidation_1-error:0.47643\n",
            "[80]\tvalidation_0-error:0.11846\tvalidation_1-error:0.47786\n",
            "[81]\tvalidation_0-error:0.11711\tvalidation_1-error:0.47964\n",
            "[82]\tvalidation_0-error:0.11692\tvalidation_1-error:0.47964\n",
            "[83]\tvalidation_0-error:0.11577\tvalidation_1-error:0.48071\n",
            "[84]\tvalidation_0-error:0.11365\tvalidation_1-error:0.48036\n",
            "[85]\tvalidation_0-error:0.11365\tvalidation_1-error:0.47964\n",
            "[86]\tvalidation_0-error:0.11346\tvalidation_1-error:0.47750\n",
            "[87]\tvalidation_0-error:0.11192\tvalidation_1-error:0.47929\n",
            "[88]\tvalidation_0-error:0.11019\tvalidation_1-error:0.47464\n",
            "[89]\tvalidation_0-error:0.11019\tvalidation_1-error:0.47679\n",
            "[90]\tvalidation_0-error:0.11038\tvalidation_1-error:0.47964\n",
            "[91]\tvalidation_0-error:0.10923\tvalidation_1-error:0.47357\n",
            "[92]\tvalidation_0-error:0.10942\tvalidation_1-error:0.47571\n",
            "[93]\tvalidation_0-error:0.10827\tvalidation_1-error:0.47536\n",
            "[94]\tvalidation_0-error:0.10481\tvalidation_1-error:0.47536\n",
            "[95]\tvalidation_0-error:0.10423\tvalidation_1-error:0.47500\n",
            "[96]\tvalidation_0-error:0.10327\tvalidation_1-error:0.47393\n",
            "[97]\tvalidation_0-error:0.10000\tvalidation_1-error:0.47286\n",
            "[98]\tvalidation_0-error:0.09885\tvalidation_1-error:0.47393\n",
            "[99]\tvalidation_0-error:0.09827\tvalidation_1-error:0.47643\n"
          ]
        },
        {
          "data": {
            "text/plain": [
              "XGBClassifier(base_score=0.5, booster='gbtree', colsample_bylevel=1,\n",
              "              colsample_bynode=1, colsample_bytree=1, enable_categorical=False,\n",
              "              gamma=0, gpu_id=-1, importance_type=None,\n",
              "              interaction_constraints='', learning_rate=0.300000012,\n",
              "              max_delta_step=0, max_depth=6, min_child_weight=1, missing=nan,\n",
              "              monotone_constraints='()', n_estimators=100, n_jobs=1,\n",
              "              num_parallel_tree=1, predictor='auto', random_state=0,\n",
              "              reg_alpha=0, reg_lambda=1, scale_pos_weight=1, subsample=1,\n",
              "              tree_method='exact', use_label_encoder=False,\n",
              "              validate_parameters=1, verbosity=None)"
            ]
          },
          "execution_count": 26,
          "metadata": {},
          "output_type": "execute_result"
        }
      ],
      "source": [
        "# Train and evaluate.\n",
        "xgb_model.fit(X_train, y_train, eval_metric=['error'], eval_set=[((X_train, y_train)),(X_test, y_test)])"
      ]
    },
    {
      "cell_type": "code",
      "execution_count": null,
      "id": "fefaf32c",
      "metadata": {
        "execution": {
          "iopub.execute_input": "2022-02-04T21:41:04.976118Z",
          "iopub.status.busy": "2022-02-04T21:41:04.974385Z",
          "iopub.status.idle": "2022-02-04T21:41:04.976888Z",
          "shell.execute_reply": "2022-02-04T21:41:04.977347Z",
          "shell.execute_reply.started": "2022-02-04T21:12:22.243120Z"
        },
        "papermill": {
          "duration": 0.083311,
          "end_time": "2022-02-04T21:41:04.977538",
          "exception": false,
          "start_time": "2022-02-04T21:41:04.894227",
          "status": "completed"
        },
        "tags": [],
        "id": "fefaf32c"
      },
      "outputs": [],
      "source": [
        "from matplotlib import pyplot\n",
        "\n",
        "%matplotlib inline"
      ]
    },
    {
      "cell_type": "code",
      "execution_count": null,
      "id": "767cd73f",
      "metadata": {
        "execution": {
          "iopub.execute_input": "2022-02-04T21:41:05.154937Z",
          "iopub.status.busy": "2022-02-04T21:41:05.145594Z",
          "iopub.status.idle": "2022-02-04T21:41:05.483425Z",
          "shell.execute_reply": "2022-02-04T21:41:05.482785Z",
          "shell.execute_reply.started": "2022-02-04T21:12:22.252896Z"
        },
        "papermill": {
          "duration": 0.431651,
          "end_time": "2022-02-04T21:41:05.483602",
          "exception": false,
          "start_time": "2022-02-04T21:41:05.051951",
          "status": "completed"
        },
        "tags": [],
        "id": "767cd73f",
        "outputId": "4c2e8ec1-d096-4161-cc1e-2840ca05d2d2"
      },
      "outputs": [
        {
          "data": {
            "image/png": "[encoded data removed]",
            "text/plain": [
              "<Figure size 576x432 with 1 Axes>"
            ]
          },
          "metadata": {
            "needs_background": "light"
          },
          "output_type": "display_data"
        }
      ],
      "source": [
        "# Plot and display the performance evaluation\n",
        "xgb_eval = xgb_model.evals_result()\n",
        "eval_steps = range(len(xgb_eval['validation_0']['error']))\n",
        "\n",
        "fig, ax = pyplot.subplots(1, 1, sharex=True, figsize=(8, 6))\n",
        "\n",
        "ax.plot(eval_steps, [1-x for x in xgb_eval['validation_0']['error']], label='Train')\n",
        "ax.plot(eval_steps, [1-x for x in xgb_eval['validation_1']['error']], label='Test')\n",
        "ax.legend()\n",
        "ax.set_title('Accuracy')\n",
        "ax.set_xlabel('Number of iterations');"
      ]
    },
    {
      "cell_type": "code",
      "execution_count": null,
      "id": "424950ec",
      "metadata": {
        "execution": {
          "iopub.execute_input": "2022-02-04T21:41:05.629298Z",
          "iopub.status.busy": "2022-02-04T21:41:05.628281Z",
          "iopub.status.idle": "2022-02-04T21:41:05.644044Z",
          "shell.execute_reply": "2022-02-04T21:41:05.644628Z",
          "shell.execute_reply.started": "2022-02-04T21:12:22.585741Z"
        },
        "papermill": {
          "duration": 0.090211,
          "end_time": "2022-02-04T21:41:05.644829",
          "exception": false,
          "start_time": "2022-02-04T21:41:05.554618",
          "status": "completed"
        },
        "tags": [],
        "id": "424950ec"
      },
      "outputs": [],
      "source": [
        "# Select trained model.\n",
        "n_trees = 40\n",
        "y_pred = xgb_model.predict(X_test, ntree_limit= n_trees)"
      ]
    },
    {
      "cell_type": "code",
      "execution_count": null,
      "id": "e2a63e33",
      "metadata": {
        "execution": {
          "iopub.execute_input": "2022-02-04T21:41:05.794830Z",
          "iopub.status.busy": "2022-02-04T21:41:05.793853Z",
          "iopub.status.idle": "2022-02-04T21:41:05.798828Z",
          "shell.execute_reply": "2022-02-04T21:41:05.799277Z",
          "shell.execute_reply.started": "2022-02-04T21:12:22.602299Z"
        },
        "papermill": {
          "duration": 0.083728,
          "end_time": "2022-02-04T21:41:05.799474",
          "exception": false,
          "start_time": "2022-02-04T21:41:05.715746",
          "status": "completed"
        },
        "tags": [],
        "id": "e2a63e33",
        "outputId": "23e56f72-4dca-46d3-f476-dbe749b0aef8"
      },
      "outputs": [
        {
          "name": "stdout",
          "output_type": "stream",
          "text": [
            "Accuracy: 52.8%\n"
          ]
        }
      ],
      "source": [
        "# Check the accuracy of the trained model.\n",
        "accuracy = accuracy_score(y_test, y_pred)\n",
        "\n",
        "print(\"Accuracy: %.1f%%\" % (accuracy * 100.0))"
      ]
    },
    {
      "cell_type": "markdown",
      "id": "5b2af385",
      "metadata": {
        "papermill": {
          "duration": 0.073658,
          "end_time": "2022-02-04T21:41:05.947236",
          "exception": false,
          "start_time": "2022-02-04T21:41:05.873578",
          "status": "completed"
        },
        "tags": [],
        "id": "5b2af385"
      },
      "source": [
        "следующий шаг"
      ]
    },
    {
      "cell_type": "code",
      "execution_count": null,
      "id": "8896af75",
      "metadata": {
        "execution": {
          "iopub.execute_input": "2022-02-04T21:41:06.094932Z",
          "iopub.status.busy": "2022-02-04T21:41:06.093901Z",
          "iopub.status.idle": "2022-02-04T21:41:06.096135Z",
          "shell.execute_reply": "2022-02-04T21:41:06.096739Z",
          "shell.execute_reply.started": "2022-02-04T21:12:22.612076Z"
        },
        "papermill": {
          "duration": 0.078827,
          "end_time": "2022-02-04T21:41:06.096909",
          "exception": false,
          "start_time": "2022-02-04T21:41:06.018082",
          "status": "completed"
        },
        "tags": [],
        "id": "8896af75"
      },
      "outputs": [],
      "source": [
        "xgb_model_gs = XGBClassifier(eval_metric=['error'], use_label_encoder=False, n_jobs=-1)\n",
        "parameters = {'reg_alpha': [0.0, 1.0], 'reg_lambda': [0.0, 1.0], 'n_estimators': [n_trees], 'seed': [1337]}"
      ]
    },
    {
      "cell_type": "code",
      "execution_count": null,
      "id": "dc7d56e6",
      "metadata": {
        "execution": {
          "iopub.execute_input": "2022-02-04T21:41:06.246698Z",
          "iopub.status.busy": "2022-02-04T21:41:06.244092Z",
          "iopub.status.idle": "2022-02-04T21:44:31.797007Z",
          "shell.execute_reply": "2022-02-04T21:44:31.796483Z",
          "shell.execute_reply.started": "2022-02-04T21:12:22.629878Z"
        },
        "papermill": {
          "duration": 205.628116,
          "end_time": "2022-02-04T21:44:31.797184",
          "exception": false,
          "start_time": "2022-02-04T21:41:06.169068",
          "status": "completed"
        },
        "tags": [],
        "id": "dc7d56e6",
        "outputId": "922f09e8-bea2-4b3b-e5ac-cb6deb13ea0b"
      },
      "outputs": [
        {
          "name": "stderr",
          "output_type": "stream",
          "text": [
            "[Parallel(n_jobs=-1)]: Using backend LokyBackend with 4 concurrent workers.\n",
            "[Parallel(n_jobs=-1)]: Done  20 out of  20 | elapsed:  3.4min finished\n"
          ]
        },
        {
          "data": {
            "text/plain": [
              "GridSearchCV(cv=5,\n",
              "             estimator=XGBClassifier(base_score=None, booster=None,\n",
              "                                     colsample_bylevel=None,\n",
              "                                     colsample_bynode=None,\n",
              "                                     colsample_bytree=None,\n",
              "                                     enable_categorical=False,\n",
              "                                     eval_metric=['error'], gamma=None,\n",
              "                                     gpu_id=None, importance_type=None,\n",
              "                                     interaction_constraints=None,\n",
              "                                     learning_rate=None, max_delta_step=None,\n",
              "                                     max_depth=None, min_child_weight=None,\n",
              "                                     missing=nan, mono...\n",
              "                                     n_estimators=100, n_jobs=-1,\n",
              "                                     num_parallel_tree=None, predictor=None,\n",
              "                                     random_state=None, reg_alpha=None,\n",
              "                                     reg_lambda=None, scale_pos_weight=None,\n",
              "                                     subsample=None, tree_method=None,\n",
              "                                     use_label_encoder=False,\n",
              "                                     validate_parameters=None, verbosity=None),\n",
              "             n_jobs=-1,\n",
              "             param_grid={'n_estimators': [40], 'reg_alpha': [0.0, 1.0],\n",
              "                         'reg_lambda': [0.0, 1.0], 'seed': [1337]},\n",
              "             scoring='accuracy', verbose=-1)"
            ]
          },
          "execution_count": 32,
          "metadata": {},
          "output_type": "execute_result"
        }
      ],
      "source": [
        "# Search for the best parameters.\n",
        "clf = GridSearchCV(xgb_model_gs, parameters, scoring='accuracy', cv=5, verbose=-1, n_jobs=-1, refit=True)\n",
        "clf.fit(X_train, y_train)"
      ]
    },
    {
      "cell_type": "code",
      "execution_count": null,
      "id": "7bd86c37",
      "metadata": {
        "execution": {
          "iopub.execute_input": "2022-02-04T21:44:31.943860Z",
          "iopub.status.busy": "2022-02-04T21:44:31.943159Z",
          "iopub.status.idle": "2022-02-04T21:44:31.948533Z",
          "shell.execute_reply": "2022-02-04T21:44:31.948960Z",
          "shell.execute_reply.started": "2022-02-04T21:15:32.723800Z"
        },
        "papermill": {
          "duration": 0.080306,
          "end_time": "2022-02-04T21:44:31.949131",
          "exception": false,
          "start_time": "2022-02-04T21:44:31.868825",
          "status": "completed"
        },
        "tags": [],
        "id": "7bd86c37",
        "outputId": "2b302e69-df8c-42de-a90b-cb47b7b64dcb"
      },
      "outputs": [
        {
          "name": "stdout",
          "output_type": "stream",
          "text": [
            "Best score: 52.9%\n",
            "Best parameter set: {'n_estimators': 40, 'reg_alpha': 0.0, 'reg_lambda': 1.0, 'seed': 1337}\n"
          ]
        }
      ],
      "source": [
        "print(\"Best score: %.1f%%\" % (clf.best_score_*100))\n",
        "print(\"Best parameter set: %s\" % (clf.best_params_))"
      ]
    },
    {
      "cell_type": "code",
      "execution_count": null,
      "id": "1d99a941",
      "metadata": {
        "execution": {
          "iopub.execute_input": "2022-02-04T21:44:32.097751Z",
          "iopub.status.busy": "2022-02-04T21:44:32.097110Z",
          "iopub.status.idle": "2022-02-04T21:44:32.113918Z",
          "shell.execute_reply": "2022-02-04T21:44:32.113345Z",
          "shell.execute_reply.started": "2022-02-04T21:15:32.730186Z"
        },
        "papermill": {
          "duration": 0.093313,
          "end_time": "2022-02-04T21:44:32.114052",
          "exception": false,
          "start_time": "2022-02-04T21:44:32.020739",
          "status": "completed"
        },
        "tags": [],
        "id": "1d99a941",
        "outputId": "fea55e8f-a24d-4403-8186-35972439547b"
      },
      "outputs": [
        {
          "name": "stdout",
          "output_type": "stream",
          "text": [
            "Accuracy: 52.8%\n"
          ]
        }
      ],
      "source": [
        "y_pred = clf.best_estimator_.predict(X_test, ntree_limit= n_trees)\n",
        "\n",
        "accuracy = accuracy_score(y_test, y_pred)\n",
        "print(\"Accuracy: %.1f%%\" % (accuracy * 100.0))"
      ]
    },
    {
      "cell_type": "markdown",
      "id": "d83b0dc6",
      "metadata": {
        "papermill": {
          "duration": 0.07142,
          "end_time": "2022-02-04T21:44:32.257423",
          "exception": false,
          "start_time": "2022-02-04T21:44:32.186003",
          "status": "completed"
        },
        "tags": [],
        "id": "d83b0dc6"
      },
      "source": [
        "проверка на тестовой выборке"
      ]
    },
    {
      "cell_type": "code",
      "execution_count": null,
      "id": "860535dc",
      "metadata": {
        "execution": {
          "iopub.execute_input": "2022-02-04T21:44:32.404689Z",
          "iopub.status.busy": "2022-02-04T21:44:32.404055Z",
          "iopub.status.idle": "2022-02-04T21:44:32.432118Z",
          "shell.execute_reply": "2022-02-04T21:44:32.431523Z",
          "shell.execute_reply.started": "2022-02-04T21:15:32.764033Z"
        },
        "papermill": {
          "duration": 0.102296,
          "end_time": "2022-02-04T21:44:32.432265",
          "exception": false,
          "start_time": "2022-02-04T21:44:32.329969",
          "status": "completed"
        },
        "tags": [],
        "id": "860535dc",
        "outputId": "2eac1955-786f-4771-f7b0-178707612b35"
      },
      "outputs": [
        {
          "data": {
            "text/html": [
              "<div>\n",
              "<style scoped>\n",
              "    .dataframe tbody tr th:only-of-type {\n",
              "        vertical-align: middle;\n",
              "    }\n",
              "\n",
              "    .dataframe tbody tr th {\n",
              "        vertical-align: top;\n",
              "    }\n",
              "\n",
              "    .dataframe thead th {\n",
              "        text-align: right;\n",
              "    }\n",
              "</style>\n",
              "<table border=\"1\" class=\"dataframe\">\n",
              "  <thead>\n",
              "    <tr style=\"text-align: right;\">\n",
              "      <th></th>\n",
              "      <th>Unnamed: 0</th>\n",
              "      <th>id</th>\n",
              "      <th>big station</th>\n",
              "      <th>small station</th>\n",
              "      <th>bus stop</th>\n",
              "      <th>hospital</th>\n",
              "      <th>pharmacy</th>\n",
              "      <th>theatre</th>\n",
              "      <th>cinema</th>\n",
              "      <th>park</th>\n",
              "      <th>...</th>\n",
              "      <th>bar</th>\n",
              "      <th>store</th>\n",
              "      <th>bank</th>\n",
              "      <th>atm</th>\n",
              "      <th>chrisians</th>\n",
              "      <th>muslims</th>\n",
              "      <th>police</th>\n",
              "      <th>fire station</th>\n",
              "      <th>school</th>\n",
              "      <th>kindergarten</th>\n",
              "    </tr>\n",
              "  </thead>\n",
              "  <tbody>\n",
              "    <tr>\n",
              "      <th>0</th>\n",
              "      <td>0</td>\n",
              "      <td>8000.0</td>\n",
              "      <td>11.0</td>\n",
              "      <td>0.0</td>\n",
              "      <td>17.0</td>\n",
              "      <td>7.0</td>\n",
              "      <td>0.0</td>\n",
              "      <td>1.0</td>\n",
              "      <td>0.0</td>\n",
              "      <td>4.0</td>\n",
              "      <td>...</td>\n",
              "      <td>0.0</td>\n",
              "      <td>0.0</td>\n",
              "      <td>2.0</td>\n",
              "      <td>0.0</td>\n",
              "      <td>0.0</td>\n",
              "      <td>0.0</td>\n",
              "      <td>2.0</td>\n",
              "      <td>3.0</td>\n",
              "      <td>3.0</td>\n",
              "      <td>1.0</td>\n",
              "    </tr>\n",
              "    <tr>\n",
              "      <th>1</th>\n",
              "      <td>1</td>\n",
              "      <td>8001.0</td>\n",
              "      <td>7.0</td>\n",
              "      <td>3.0</td>\n",
              "      <td>20.0</td>\n",
              "      <td>4.0</td>\n",
              "      <td>0.0</td>\n",
              "      <td>2.0</td>\n",
              "      <td>0.0</td>\n",
              "      <td>2.0</td>\n",
              "      <td>...</td>\n",
              "      <td>0.0</td>\n",
              "      <td>0.0</td>\n",
              "      <td>1.0</td>\n",
              "      <td>0.0</td>\n",
              "      <td>0.0</td>\n",
              "      <td>0.0</td>\n",
              "      <td>2.0</td>\n",
              "      <td>2.0</td>\n",
              "      <td>2.0</td>\n",
              "      <td>2.0</td>\n",
              "    </tr>\n",
              "    <tr>\n",
              "      <th>2</th>\n",
              "      <td>2</td>\n",
              "      <td>8002.0</td>\n",
              "      <td>2.0</td>\n",
              "      <td>1.0</td>\n",
              "      <td>14.0</td>\n",
              "      <td>2.0</td>\n",
              "      <td>0.0</td>\n",
              "      <td>0.0</td>\n",
              "      <td>0.0</td>\n",
              "      <td>3.0</td>\n",
              "      <td>...</td>\n",
              "      <td>0.0</td>\n",
              "      <td>0.0</td>\n",
              "      <td>0.0</td>\n",
              "      <td>0.0</td>\n",
              "      <td>0.0</td>\n",
              "      <td>0.0</td>\n",
              "      <td>3.0</td>\n",
              "      <td>1.0</td>\n",
              "      <td>5.0</td>\n",
              "      <td>5.0</td>\n",
              "    </tr>\n",
              "    <tr>\n",
              "      <th>3</th>\n",
              "      <td>3</td>\n",
              "      <td>8003.0</td>\n",
              "      <td>14.0</td>\n",
              "      <td>2.0</td>\n",
              "      <td>6.0</td>\n",
              "      <td>10.0</td>\n",
              "      <td>0.0</td>\n",
              "      <td>13.0</td>\n",
              "      <td>0.0</td>\n",
              "      <td>3.0</td>\n",
              "      <td>...</td>\n",
              "      <td>0.0</td>\n",
              "      <td>0.0</td>\n",
              "      <td>5.0</td>\n",
              "      <td>0.0</td>\n",
              "      <td>0.0</td>\n",
              "      <td>0.0</td>\n",
              "      <td>0.0</td>\n",
              "      <td>2.0</td>\n",
              "      <td>4.0</td>\n",
              "      <td>3.0</td>\n",
              "    </tr>\n",
              "    <tr>\n",
              "      <th>4</th>\n",
              "      <td>4</td>\n",
              "      <td>8004.0</td>\n",
              "      <td>5.0</td>\n",
              "      <td>0.0</td>\n",
              "      <td>9.0</td>\n",
              "      <td>1.0</td>\n",
              "      <td>0.0</td>\n",
              "      <td>0.0</td>\n",
              "      <td>0.0</td>\n",
              "      <td>0.0</td>\n",
              "      <td>...</td>\n",
              "      <td>0.0</td>\n",
              "      <td>0.0</td>\n",
              "      <td>0.0</td>\n",
              "      <td>0.0</td>\n",
              "      <td>0.0</td>\n",
              "      <td>0.0</td>\n",
              "      <td>2.0</td>\n",
              "      <td>1.0</td>\n",
              "      <td>0.0</td>\n",
              "      <td>2.0</td>\n",
              "    </tr>\n",
              "  </tbody>\n",
              "</table>\n",
              "<p>5 rows × 24 columns</p>\n",
              "</div>"
            ],
            "text/plain": [
              "   Unnamed: 0      id  big station  small station  bus stop  hospital  \\\n",
              "0           0  8000.0         11.0            0.0      17.0       7.0   \n",
              "1           1  8001.0          7.0            3.0      20.0       4.0   \n",
              "2           2  8002.0          2.0            1.0      14.0       2.0   \n",
              "3           3  8003.0         14.0            2.0       6.0      10.0   \n",
              "4           4  8004.0          5.0            0.0       9.0       1.0   \n",
              "\n",
              "   pharmacy  theatre  cinema  park  ...  bar  store  bank  atm  chrisians  \\\n",
              "0       0.0      1.0     0.0   4.0  ...  0.0    0.0   2.0  0.0        0.0   \n",
              "1       0.0      2.0     0.0   2.0  ...  0.0    0.0   1.0  0.0        0.0   \n",
              "2       0.0      0.0     0.0   3.0  ...  0.0    0.0   0.0  0.0        0.0   \n",
              "3       0.0     13.0     0.0   3.0  ...  0.0    0.0   5.0  0.0        0.0   \n",
              "4       0.0      0.0     0.0   0.0  ...  0.0    0.0   0.0  0.0        0.0   \n",
              "\n",
              "   muslims  police  fire station  school  kindergarten  \n",
              "0      0.0     2.0           3.0     3.0           1.0  \n",
              "1      0.0     2.0           2.0     2.0           2.0  \n",
              "2      0.0     3.0           1.0     5.0           5.0  \n",
              "3      0.0     0.0           2.0     4.0           3.0  \n",
              "4      0.0     2.0           1.0     0.0           2.0  \n",
              "\n",
              "[5 rows x 24 columns]"
            ]
          },
          "execution_count": 35,
          "metadata": {},
          "output_type": "execute_result"
        }
      ],
      "source": [
        "X_test_old_1 = X_test_old.copy()\n",
        "X_test_old_1.head()"
      ]
    },
    {
      "cell_type": "code",
      "execution_count": null,
      "id": "5c5b3ab5",
      "metadata": {
        "execution": {
          "iopub.execute_input": "2022-02-04T21:44:32.581108Z",
          "iopub.status.busy": "2022-02-04T21:44:32.580490Z",
          "iopub.status.idle": "2022-02-04T21:44:32.617785Z",
          "shell.execute_reply": "2022-02-04T21:44:32.618189Z",
          "shell.execute_reply.started": "2022-02-04T21:15:32.801123Z"
        },
        "papermill": {
          "duration": 0.113075,
          "end_time": "2022-02-04T21:44:32.618356",
          "exception": false,
          "start_time": "2022-02-04T21:44:32.505281",
          "status": "completed"
        },
        "tags": [],
        "id": "5c5b3ab5",
        "outputId": "46e23496-2b96-4d5b-ac07-eafea7df9062"
      },
      "outputs": [
        {
          "data": {
            "text/html": [
              "<div>\n",
              "<style scoped>\n",
              "    .dataframe tbody tr th:only-of-type {\n",
              "        vertical-align: middle;\n",
              "    }\n",
              "\n",
              "    .dataframe tbody tr th {\n",
              "        vertical-align: top;\n",
              "    }\n",
              "\n",
              "    .dataframe thead th {\n",
              "        text-align: right;\n",
              "    }\n",
              "</style>\n",
              "<table border=\"1\" class=\"dataframe\">\n",
              "  <thead>\n",
              "    <tr style=\"text-align: right;\">\n",
              "      <th></th>\n",
              "      <th>id</th>\n",
              "      <th>big station</th>\n",
              "      <th>small station</th>\n",
              "      <th>bus stop</th>\n",
              "      <th>hospital</th>\n",
              "      <th>pharmacy</th>\n",
              "      <th>theatre</th>\n",
              "      <th>cinema</th>\n",
              "      <th>park</th>\n",
              "      <th>sport centre</th>\n",
              "      <th>...</th>\n",
              "      <th>bar</th>\n",
              "      <th>store</th>\n",
              "      <th>bank</th>\n",
              "      <th>atm</th>\n",
              "      <th>chrisians</th>\n",
              "      <th>muslims</th>\n",
              "      <th>police</th>\n",
              "      <th>fire station</th>\n",
              "      <th>school</th>\n",
              "      <th>kindergarten</th>\n",
              "    </tr>\n",
              "  </thead>\n",
              "  <tbody>\n",
              "    <tr>\n",
              "      <th>0</th>\n",
              "      <td>8000</td>\n",
              "      <td>11.0</td>\n",
              "      <td>0.0</td>\n",
              "      <td>17.0</td>\n",
              "      <td>7.0</td>\n",
              "      <td>0.0</td>\n",
              "      <td>1.0</td>\n",
              "      <td>0.0</td>\n",
              "      <td>4.0</td>\n",
              "      <td>0.0</td>\n",
              "      <td>...</td>\n",
              "      <td>0.0</td>\n",
              "      <td>0.0</td>\n",
              "      <td>2.0</td>\n",
              "      <td>0.0</td>\n",
              "      <td>0.0</td>\n",
              "      <td>0.0</td>\n",
              "      <td>2.0</td>\n",
              "      <td>3.0</td>\n",
              "      <td>3.0</td>\n",
              "      <td>1.0</td>\n",
              "    </tr>\n",
              "    <tr>\n",
              "      <th>1</th>\n",
              "      <td>8001</td>\n",
              "      <td>7.0</td>\n",
              "      <td>3.0</td>\n",
              "      <td>20.0</td>\n",
              "      <td>4.0</td>\n",
              "      <td>0.0</td>\n",
              "      <td>2.0</td>\n",
              "      <td>0.0</td>\n",
              "      <td>2.0</td>\n",
              "      <td>2.0</td>\n",
              "      <td>...</td>\n",
              "      <td>0.0</td>\n",
              "      <td>0.0</td>\n",
              "      <td>1.0</td>\n",
              "      <td>0.0</td>\n",
              "      <td>0.0</td>\n",
              "      <td>0.0</td>\n",
              "      <td>2.0</td>\n",
              "      <td>2.0</td>\n",
              "      <td>2.0</td>\n",
              "      <td>2.0</td>\n",
              "    </tr>\n",
              "    <tr>\n",
              "      <th>2</th>\n",
              "      <td>8002</td>\n",
              "      <td>2.0</td>\n",
              "      <td>1.0</td>\n",
              "      <td>14.0</td>\n",
              "      <td>2.0</td>\n",
              "      <td>0.0</td>\n",
              "      <td>0.0</td>\n",
              "      <td>0.0</td>\n",
              "      <td>3.0</td>\n",
              "      <td>1.0</td>\n",
              "      <td>...</td>\n",
              "      <td>0.0</td>\n",
              "      <td>0.0</td>\n",
              "      <td>0.0</td>\n",
              "      <td>0.0</td>\n",
              "      <td>0.0</td>\n",
              "      <td>0.0</td>\n",
              "      <td>3.0</td>\n",
              "      <td>1.0</td>\n",
              "      <td>5.0</td>\n",
              "      <td>5.0</td>\n",
              "    </tr>\n",
              "    <tr>\n",
              "      <th>3</th>\n",
              "      <td>8003</td>\n",
              "      <td>14.0</td>\n",
              "      <td>2.0</td>\n",
              "      <td>6.0</td>\n",
              "      <td>10.0</td>\n",
              "      <td>0.0</td>\n",
              "      <td>13.0</td>\n",
              "      <td>0.0</td>\n",
              "      <td>3.0</td>\n",
              "      <td>2.0</td>\n",
              "      <td>...</td>\n",
              "      <td>0.0</td>\n",
              "      <td>0.0</td>\n",
              "      <td>5.0</td>\n",
              "      <td>0.0</td>\n",
              "      <td>0.0</td>\n",
              "      <td>0.0</td>\n",
              "      <td>0.0</td>\n",
              "      <td>2.0</td>\n",
              "      <td>4.0</td>\n",
              "      <td>3.0</td>\n",
              "    </tr>\n",
              "    <tr>\n",
              "      <th>4</th>\n",
              "      <td>8004</td>\n",
              "      <td>5.0</td>\n",
              "      <td>0.0</td>\n",
              "      <td>9.0</td>\n",
              "      <td>1.0</td>\n",
              "      <td>0.0</td>\n",
              "      <td>0.0</td>\n",
              "      <td>0.0</td>\n",
              "      <td>0.0</td>\n",
              "      <td>1.0</td>\n",
              "      <td>...</td>\n",
              "      <td>0.0</td>\n",
              "      <td>0.0</td>\n",
              "      <td>0.0</td>\n",
              "      <td>0.0</td>\n",
              "      <td>0.0</td>\n",
              "      <td>0.0</td>\n",
              "      <td>2.0</td>\n",
              "      <td>1.0</td>\n",
              "      <td>0.0</td>\n",
              "      <td>2.0</td>\n",
              "    </tr>\n",
              "    <tr>\n",
              "      <th>...</th>\n",
              "      <td>...</td>\n",
              "      <td>...</td>\n",
              "      <td>...</td>\n",
              "      <td>...</td>\n",
              "      <td>...</td>\n",
              "      <td>...</td>\n",
              "      <td>...</td>\n",
              "      <td>...</td>\n",
              "      <td>...</td>\n",
              "      <td>...</td>\n",
              "      <td>...</td>\n",
              "      <td>...</td>\n",
              "      <td>...</td>\n",
              "      <td>...</td>\n",
              "      <td>...</td>\n",
              "      <td>...</td>\n",
              "      <td>...</td>\n",
              "      <td>...</td>\n",
              "      <td>...</td>\n",
              "      <td>...</td>\n",
              "      <td>...</td>\n",
              "    </tr>\n",
              "    <tr>\n",
              "      <th>3995</th>\n",
              "      <td>11995</td>\n",
              "      <td>4.0</td>\n",
              "      <td>1.0</td>\n",
              "      <td>15.0</td>\n",
              "      <td>2.0</td>\n",
              "      <td>0.0</td>\n",
              "      <td>0.0</td>\n",
              "      <td>0.0</td>\n",
              "      <td>1.0</td>\n",
              "      <td>0.0</td>\n",
              "      <td>...</td>\n",
              "      <td>0.0</td>\n",
              "      <td>0.0</td>\n",
              "      <td>0.0</td>\n",
              "      <td>0.0</td>\n",
              "      <td>0.0</td>\n",
              "      <td>0.0</td>\n",
              "      <td>1.0</td>\n",
              "      <td>0.0</td>\n",
              "      <td>2.0</td>\n",
              "      <td>3.0</td>\n",
              "    </tr>\n",
              "    <tr>\n",
              "      <th>3996</th>\n",
              "      <td>11996</td>\n",
              "      <td>4.0</td>\n",
              "      <td>1.0</td>\n",
              "      <td>9.0</td>\n",
              "      <td>3.0</td>\n",
              "      <td>0.0</td>\n",
              "      <td>1.0</td>\n",
              "      <td>0.0</td>\n",
              "      <td>1.0</td>\n",
              "      <td>1.0</td>\n",
              "      <td>...</td>\n",
              "      <td>0.0</td>\n",
              "      <td>1.0</td>\n",
              "      <td>0.0</td>\n",
              "      <td>0.0</td>\n",
              "      <td>0.0</td>\n",
              "      <td>0.0</td>\n",
              "      <td>1.0</td>\n",
              "      <td>0.0</td>\n",
              "      <td>0.0</td>\n",
              "      <td>4.0</td>\n",
              "    </tr>\n",
              "    <tr>\n",
              "      <th>3997</th>\n",
              "      <td>11997</td>\n",
              "      <td>2.0</td>\n",
              "      <td>2.0</td>\n",
              "      <td>9.0</td>\n",
              "      <td>0.0</td>\n",
              "      <td>0.0</td>\n",
              "      <td>0.0</td>\n",
              "      <td>0.0</td>\n",
              "      <td>0.0</td>\n",
              "      <td>1.0</td>\n",
              "      <td>...</td>\n",
              "      <td>0.0</td>\n",
              "      <td>1.0</td>\n",
              "      <td>0.0</td>\n",
              "      <td>0.0</td>\n",
              "      <td>0.0</td>\n",
              "      <td>0.0</td>\n",
              "      <td>0.0</td>\n",
              "      <td>0.0</td>\n",
              "      <td>2.0</td>\n",
              "      <td>4.0</td>\n",
              "    </tr>\n",
              "    <tr>\n",
              "      <th>3998</th>\n",
              "      <td>11998</td>\n",
              "      <td>5.0</td>\n",
              "      <td>0.0</td>\n",
              "      <td>5.0</td>\n",
              "      <td>1.0</td>\n",
              "      <td>0.0</td>\n",
              "      <td>0.0</td>\n",
              "      <td>0.0</td>\n",
              "      <td>0.0</td>\n",
              "      <td>1.0</td>\n",
              "      <td>...</td>\n",
              "      <td>0.0</td>\n",
              "      <td>0.0</td>\n",
              "      <td>0.0</td>\n",
              "      <td>0.0</td>\n",
              "      <td>0.0</td>\n",
              "      <td>0.0</td>\n",
              "      <td>4.0</td>\n",
              "      <td>1.0</td>\n",
              "      <td>0.0</td>\n",
              "      <td>0.0</td>\n",
              "    </tr>\n",
              "    <tr>\n",
              "      <th>3999</th>\n",
              "      <td>11999</td>\n",
              "      <td>0.0</td>\n",
              "      <td>0.0</td>\n",
              "      <td>2.0</td>\n",
              "      <td>0.0</td>\n",
              "      <td>0.0</td>\n",
              "      <td>0.0</td>\n",
              "      <td>0.0</td>\n",
              "      <td>0.0</td>\n",
              "      <td>0.0</td>\n",
              "      <td>...</td>\n",
              "      <td>0.0</td>\n",
              "      <td>0.0</td>\n",
              "      <td>0.0</td>\n",
              "      <td>0.0</td>\n",
              "      <td>0.0</td>\n",
              "      <td>0.0</td>\n",
              "      <td>0.0</td>\n",
              "      <td>0.0</td>\n",
              "      <td>0.0</td>\n",
              "      <td>0.0</td>\n",
              "    </tr>\n",
              "  </tbody>\n",
              "</table>\n",
              "<p>4000 rows × 23 columns</p>\n",
              "</div>"
            ],
            "text/plain": [
              "         id  big station  small station  bus stop  hospital  pharmacy  \\\n",
              "0      8000         11.0            0.0      17.0       7.0       0.0   \n",
              "1      8001          7.0            3.0      20.0       4.0       0.0   \n",
              "2      8002          2.0            1.0      14.0       2.0       0.0   \n",
              "3      8003         14.0            2.0       6.0      10.0       0.0   \n",
              "4      8004          5.0            0.0       9.0       1.0       0.0   \n",
              "...     ...          ...            ...       ...       ...       ...   \n",
              "3995  11995          4.0            1.0      15.0       2.0       0.0   \n",
              "3996  11996          4.0            1.0       9.0       3.0       0.0   \n",
              "3997  11997          2.0            2.0       9.0       0.0       0.0   \n",
              "3998  11998          5.0            0.0       5.0       1.0       0.0   \n",
              "3999  11999          0.0            0.0       2.0       0.0       0.0   \n",
              "\n",
              "      theatre  cinema  park  sport centre  ...  bar  store  bank  atm  \\\n",
              "0         1.0     0.0   4.0           0.0  ...  0.0    0.0   2.0  0.0   \n",
              "1         2.0     0.0   2.0           2.0  ...  0.0    0.0   1.0  0.0   \n",
              "2         0.0     0.0   3.0           1.0  ...  0.0    0.0   0.0  0.0   \n",
              "3        13.0     0.0   3.0           2.0  ...  0.0    0.0   5.0  0.0   \n",
              "4         0.0     0.0   0.0           1.0  ...  0.0    0.0   0.0  0.0   \n",
              "...       ...     ...   ...           ...  ...  ...    ...   ...  ...   \n",
              "3995      0.0     0.0   1.0           0.0  ...  0.0    0.0   0.0  0.0   \n",
              "3996      1.0     0.0   1.0           1.0  ...  0.0    1.0   0.0  0.0   \n",
              "3997      0.0     0.0   0.0           1.0  ...  0.0    1.0   0.0  0.0   \n",
              "3998      0.0     0.0   0.0           1.0  ...  0.0    0.0   0.0  0.0   \n",
              "3999      0.0     0.0   0.0           0.0  ...  0.0    0.0   0.0  0.0   \n",
              "\n",
              "      chrisians  muslims  police  fire station  school  kindergarten  \n",
              "0           0.0      0.0     2.0           3.0     3.0           1.0  \n",
              "1           0.0      0.0     2.0           2.0     2.0           2.0  \n",
              "2           0.0      0.0     3.0           1.0     5.0           5.0  \n",
              "3           0.0      0.0     0.0           2.0     4.0           3.0  \n",
              "4           0.0      0.0     2.0           1.0     0.0           2.0  \n",
              "...         ...      ...     ...           ...     ...           ...  \n",
              "3995        0.0      0.0     1.0           0.0     2.0           3.0  \n",
              "3996        0.0      0.0     1.0           0.0     0.0           4.0  \n",
              "3997        0.0      0.0     0.0           0.0     2.0           4.0  \n",
              "3998        0.0      0.0     4.0           1.0     0.0           0.0  \n",
              "3999        0.0      0.0     0.0           0.0     0.0           0.0  \n",
              "\n",
              "[4000 rows x 23 columns]"
            ]
          },
          "execution_count": 36,
          "metadata": {},
          "output_type": "execute_result"
        }
      ],
      "source": [
        "X_test_old_2 = X_test_old_1.drop(X_test_old_1.columns[[0]], axis = 1)\n",
        "\n",
        "X_test_old_2['id'] = X_test_old_2['id'].astype(int)\n",
        "X_test_old_2"
      ]
    },
    {
      "cell_type": "code",
      "execution_count": null,
      "id": "c9bad31e",
      "metadata": {
        "execution": {
          "iopub.execute_input": "2022-02-04T21:44:32.766269Z",
          "iopub.status.busy": "2022-02-04T21:44:32.765674Z",
          "iopub.status.idle": "2022-02-04T21:44:32.779127Z",
          "shell.execute_reply": "2022-02-04T21:44:32.779630Z",
          "shell.execute_reply.started": "2022-02-04T21:15:32.856103Z"
        },
        "papermill": {
          "duration": 0.089,
          "end_time": "2022-02-04T21:44:32.779828",
          "exception": false,
          "start_time": "2022-02-04T21:44:32.690828",
          "status": "completed"
        },
        "tags": [],
        "id": "c9bad31e"
      },
      "outputs": [],
      "source": [
        "y_pred = clf.best_estimator_.predict(X_test_old_2, ntree_limit= n_trees)"
      ]
    },
    {
      "cell_type": "code",
      "execution_count": null,
      "id": "85c46561",
      "metadata": {
        "execution": {
          "iopub.execute_input": "2022-02-04T21:44:32.936789Z",
          "iopub.status.busy": "2022-02-04T21:44:32.935815Z",
          "iopub.status.idle": "2022-02-04T21:44:32.947617Z",
          "shell.execute_reply": "2022-02-04T21:44:32.948032Z",
          "shell.execute_reply.started": "2022-02-04T21:15:32.882701Z"
        },
        "papermill": {
          "duration": 0.094086,
          "end_time": "2022-02-04T21:44:32.948213",
          "exception": false,
          "start_time": "2022-02-04T21:44:32.854127",
          "status": "completed"
        },
        "tags": [],
        "id": "85c46561",
        "outputId": "0a3cb700-103c-43ef-bbdf-258df138c9f3"
      },
      "outputs": [
        {
          "data": {
            "text/html": [
              "<div>\n",
              "<style scoped>\n",
              "    .dataframe tbody tr th:only-of-type {\n",
              "        vertical-align: middle;\n",
              "    }\n",
              "\n",
              "    .dataframe tbody tr th {\n",
              "        vertical-align: top;\n",
              "    }\n",
              "\n",
              "    .dataframe thead th {\n",
              "        text-align: right;\n",
              "    }\n",
              "</style>\n",
              "<table border=\"1\" class=\"dataframe\">\n",
              "  <thead>\n",
              "    <tr style=\"text-align: right;\">\n",
              "      <th></th>\n",
              "      <th>ID</th>\n",
              "      <th>target</th>\n",
              "    </tr>\n",
              "  </thead>\n",
              "  <tbody>\n",
              "    <tr>\n",
              "      <th>0</th>\n",
              "      <td>8000</td>\n",
              "      <td>1</td>\n",
              "    </tr>\n",
              "    <tr>\n",
              "      <th>1</th>\n",
              "      <td>8001</td>\n",
              "      <td>0</td>\n",
              "    </tr>\n",
              "    <tr>\n",
              "      <th>2</th>\n",
              "      <td>8002</td>\n",
              "      <td>1</td>\n",
              "    </tr>\n",
              "    <tr>\n",
              "      <th>3</th>\n",
              "      <td>8003</td>\n",
              "      <td>1</td>\n",
              "    </tr>\n",
              "    <tr>\n",
              "      <th>4</th>\n",
              "      <td>8004</td>\n",
              "      <td>1</td>\n",
              "    </tr>\n",
              "    <tr>\n",
              "      <th>...</th>\n",
              "      <td>...</td>\n",
              "      <td>...</td>\n",
              "    </tr>\n",
              "    <tr>\n",
              "      <th>3995</th>\n",
              "      <td>11995</td>\n",
              "      <td>1</td>\n",
              "    </tr>\n",
              "    <tr>\n",
              "      <th>3996</th>\n",
              "      <td>11996</td>\n",
              "      <td>1</td>\n",
              "    </tr>\n",
              "    <tr>\n",
              "      <th>3997</th>\n",
              "      <td>11997</td>\n",
              "      <td>1</td>\n",
              "    </tr>\n",
              "    <tr>\n",
              "      <th>3998</th>\n",
              "      <td>11998</td>\n",
              "      <td>1</td>\n",
              "    </tr>\n",
              "    <tr>\n",
              "      <th>3999</th>\n",
              "      <td>11999</td>\n",
              "      <td>1</td>\n",
              "    </tr>\n",
              "  </tbody>\n",
              "</table>\n",
              "<p>4000 rows × 2 columns</p>\n",
              "</div>"
            ],
            "text/plain": [
              "         ID  target\n",
              "0      8000       1\n",
              "1      8001       0\n",
              "2      8002       1\n",
              "3      8003       1\n",
              "4      8004       1\n",
              "...     ...     ...\n",
              "3995  11995       1\n",
              "3996  11996       1\n",
              "3997  11997       1\n",
              "3998  11998       1\n",
              "3999  11999       1\n",
              "\n",
              "[4000 rows x 2 columns]"
            ]
          },
          "execution_count": 38,
          "metadata": {},
          "output_type": "execute_result"
        }
      ],
      "source": [
        "y_pred = pd.DataFrame(y_pred, columns=['target'])\n",
        "ID_y = [i for i in range(8000, 12000)]\n",
        "y_pred['ID'] = ID_y\n",
        "\n",
        "y_pred = y_pred[['ID', 'target']]\n",
        "y_pred"
      ]
    },
    {
      "cell_type": "code",
      "execution_count": null,
      "id": "0437672f",
      "metadata": {
        "execution": {
          "iopub.execute_input": "2022-02-04T21:44:33.097994Z",
          "iopub.status.busy": "2022-02-04T21:44:33.097333Z",
          "iopub.status.idle": "2022-02-04T21:44:33.108061Z",
          "shell.execute_reply": "2022-02-04T21:44:33.108732Z",
          "shell.execute_reply.started": "2022-02-04T21:15:32.902862Z"
        },
        "papermill": {
          "duration": 0.087675,
          "end_time": "2022-02-04T21:44:33.108940",
          "exception": false,
          "start_time": "2022-02-04T21:44:33.021265",
          "status": "completed"
        },
        "tags": [],
        "id": "0437672f"
      },
      "outputs": [],
      "source": [
        "y_pred.to_csv('submission.csv', index=False)"
      ]
    },
    {
      "cell_type": "code",
      "execution_count": null,
      "id": "f9da5de6",
      "metadata": {
        "execution": {
          "iopub.execute_input": "2022-02-04T21:44:33.258496Z",
          "iopub.status.busy": "2022-02-04T21:44:33.257831Z",
          "iopub.status.idle": "2022-02-04T21:44:33.377894Z",
          "shell.execute_reply": "2022-02-04T21:44:33.376762Z",
          "shell.execute_reply.started": "2022-02-04T21:15:32.922416Z"
        },
        "papermill": {
          "duration": 0.195488,
          "end_time": "2022-02-04T21:44:33.378044",
          "exception": false,
          "start_time": "2022-02-04T21:44:33.182556",
          "status": "completed"
        },
        "tags": [],
        "id": "f9da5de6"
      },
      "outputs": [],
      "source": [
        "from sklearn.ensemble import GradientBoostingClassifier"
      ]
    },
    {
      "cell_type": "code",
      "execution_count": null,
      "id": "4cebf436",
      "metadata": {
        "execution": {
          "iopub.execute_input": "2022-02-04T21:44:33.526267Z",
          "iopub.status.busy": "2022-02-04T21:44:33.525661Z",
          "iopub.status.idle": "2022-02-04T21:47:27.727831Z",
          "shell.execute_reply": "2022-02-04T21:47:27.728327Z",
          "shell.execute_reply.started": "2022-02-04T21:35:42.745731Z"
        },
        "papermill": {
          "duration": 174.277906,
          "end_time": "2022-02-04T21:47:27.728536",
          "exception": false,
          "start_time": "2022-02-04T21:44:33.450630",
          "status": "completed"
        },
        "tags": [],
        "id": "4cebf436",
        "outputId": "18a8f7b5-570a-4b62-ad73-1471f7892419"
      },
      "outputs": [
        {
          "data": {
            "text/plain": [
              "0.5253571428571429"
            ]
          },
          "execution_count": 41,
          "metadata": {},
          "output_type": "execute_result"
        }
      ],
      "source": [
        "clf = GradientBoostingClassifier(n_estimators=10000, learning_rate=0.1, max_depth=6, random_state=143).fit(X_train, y_train)\n",
        "clf.score(X_test, y_test)"
      ]
    },
    {
      "cell_type": "code",
      "execution_count": null,
      "id": "e2470ecc",
      "metadata": {
        "execution": {
          "iopub.execute_input": "2022-02-04T21:47:27.917913Z",
          "iopub.status.busy": "2022-02-04T21:47:27.916783Z",
          "iopub.status.idle": "2022-02-04T21:47:28.806475Z",
          "shell.execute_reply": "2022-02-04T21:47:28.805903Z",
          "shell.execute_reply.started": "2022-02-04T21:39:33.216980Z"
        },
        "papermill": {
          "duration": 0.988769,
          "end_time": "2022-02-04T21:47:28.806624",
          "exception": false,
          "start_time": "2022-02-04T21:47:27.817855",
          "status": "completed"
        },
        "tags": [],
        "id": "e2470ecc"
      },
      "outputs": [],
      "source": [
        "y_pred = clf.predict(X_test_old_2)"
      ]
    },
    {
      "cell_type": "code",
      "execution_count": null,
      "id": "98580e3c",
      "metadata": {
        "execution": {
          "iopub.execute_input": "2022-02-04T21:47:28.995132Z",
          "iopub.status.busy": "2022-02-04T21:47:28.993948Z",
          "iopub.status.idle": "2022-02-04T21:47:28.998252Z",
          "shell.execute_reply": "2022-02-04T21:47:28.998696Z",
          "shell.execute_reply.started": "2022-02-04T21:39:38.520691Z"
        },
        "papermill": {
          "duration": 0.108733,
          "end_time": "2022-02-04T21:47:28.998876",
          "exception": false,
          "start_time": "2022-02-04T21:47:28.890143",
          "status": "completed"
        },
        "tags": [],
        "id": "98580e3c",
        "outputId": "3b924338-4520-4709-82ae-707b64a7cd46"
      },
      "outputs": [
        {
          "data": {
            "text/html": [
              "<div>\n",
              "<style scoped>\n",
              "    .dataframe tbody tr th:only-of-type {\n",
              "        vertical-align: middle;\n",
              "    }\n",
              "\n",
              "    .dataframe tbody tr th {\n",
              "        vertical-align: top;\n",
              "    }\n",
              "\n",
              "    .dataframe thead th {\n",
              "        text-align: right;\n",
              "    }\n",
              "</style>\n",
              "<table border=\"1\" class=\"dataframe\">\n",
              "  <thead>\n",
              "    <tr style=\"text-align: right;\">\n",
              "      <th></th>\n",
              "      <th>ID</th>\n",
              "      <th>target</th>\n",
              "    </tr>\n",
              "  </thead>\n",
              "  <tbody>\n",
              "    <tr>\n",
              "      <th>0</th>\n",
              "      <td>8000</td>\n",
              "      <td>0.0</td>\n",
              "    </tr>\n",
              "    <tr>\n",
              "      <th>1</th>\n",
              "      <td>8001</td>\n",
              "      <td>0.0</td>\n",
              "    </tr>\n",
              "    <tr>\n",
              "      <th>2</th>\n",
              "      <td>8002</td>\n",
              "      <td>0.0</td>\n",
              "    </tr>\n",
              "    <tr>\n",
              "      <th>3</th>\n",
              "      <td>8003</td>\n",
              "      <td>1.0</td>\n",
              "    </tr>\n",
              "    <tr>\n",
              "      <th>4</th>\n",
              "      <td>8004</td>\n",
              "      <td>1.0</td>\n",
              "    </tr>\n",
              "    <tr>\n",
              "      <th>...</th>\n",
              "      <td>...</td>\n",
              "      <td>...</td>\n",
              "    </tr>\n",
              "    <tr>\n",
              "      <th>3995</th>\n",
              "      <td>11995</td>\n",
              "      <td>1.0</td>\n",
              "    </tr>\n",
              "    <tr>\n",
              "      <th>3996</th>\n",
              "      <td>11996</td>\n",
              "      <td>0.0</td>\n",
              "    </tr>\n",
              "    <tr>\n",
              "      <th>3997</th>\n",
              "      <td>11997</td>\n",
              "      <td>0.0</td>\n",
              "    </tr>\n",
              "    <tr>\n",
              "      <th>3998</th>\n",
              "      <td>11998</td>\n",
              "      <td>1.0</td>\n",
              "    </tr>\n",
              "    <tr>\n",
              "      <th>3999</th>\n",
              "      <td>11999</td>\n",
              "      <td>1.0</td>\n",
              "    </tr>\n",
              "  </tbody>\n",
              "</table>\n",
              "<p>4000 rows × 2 columns</p>\n",
              "</div>"
            ],
            "text/plain": [
              "         ID  target\n",
              "0      8000     0.0\n",
              "1      8001     0.0\n",
              "2      8002     0.0\n",
              "3      8003     1.0\n",
              "4      8004     1.0\n",
              "...     ...     ...\n",
              "3995  11995     1.0\n",
              "3996  11996     0.0\n",
              "3997  11997     0.0\n",
              "3998  11998     1.0\n",
              "3999  11999     1.0\n",
              "\n",
              "[4000 rows x 2 columns]"
            ]
          },
          "execution_count": 43,
          "metadata": {},
          "output_type": "execute_result"
        }
      ],
      "source": [
        "y_pred = pd.DataFrame(y_pred, columns=['target'])\n",
        "ID_y = [i for i in range(8000, 12000)]\n",
        "y_pred['ID'] = ID_y\n",
        "\n",
        "y_pred = y_pred[['ID', 'target']]\n",
        "y_pred"
      ]
    },
    {
      "cell_type": "code",
      "execution_count": null,
      "id": "fb47e726",
      "metadata": {
        "execution": {
          "iopub.execute_input": "2022-02-04T21:47:29.172021Z",
          "iopub.status.busy": "2022-02-04T21:47:29.167729Z",
          "iopub.status.idle": "2022-02-04T21:47:29.177162Z",
          "shell.execute_reply": "2022-02-04T21:47:29.176632Z",
          "shell.execute_reply.started": "2022-02-04T21:39:48.963547Z"
        },
        "papermill": {
          "duration": 0.094525,
          "end_time": "2022-02-04T21:47:29.177297",
          "exception": false,
          "start_time": "2022-02-04T21:47:29.082772",
          "status": "completed"
        },
        "tags": [],
        "id": "fb47e726"
      },
      "outputs": [],
      "source": [
        "y_pred.to_csv('submission.csv', index=False)"
      ]
    }
  ],
  "metadata": {
    "kernelspec": {
      "display_name": "Python 3",
      "language": "python",
      "name": "python3"
    },
    "language_info": {
      "codemirror_mode": {
        "name": "ipython",
        "version": 3
      },
      "file_extension": ".py",
      "mimetype": "text/x-python",
      "name": "python",
      "nbconvert_exporter": "python",
      "pygments_lexer": "ipython3",
      "version": "3.7.12"
    },
    "papermill": {
      "default_parameters": {},
      "duration": 410.721051,
      "end_time": "2022-02-04T21:47:30.167533",
      "environment_variables": {},
      "exception": null,
      "input_path": "__notebook__.ipynb",
      "output_path": "__notebook__.ipynb",
      "parameters": {},
      "start_time": "2022-02-04T21:40:39.446482",
      "version": "2.3.3"
    },
    "colab": {
      "provenance": []
    }
  },
  "nbformat": 4,
  "nbformat_minor": 5
}